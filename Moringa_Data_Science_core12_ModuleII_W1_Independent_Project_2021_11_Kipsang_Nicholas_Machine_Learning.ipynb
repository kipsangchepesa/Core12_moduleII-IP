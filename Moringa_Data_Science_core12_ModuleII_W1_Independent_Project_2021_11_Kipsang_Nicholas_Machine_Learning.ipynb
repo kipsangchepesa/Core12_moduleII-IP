{
  "nbformat": 4,
  "nbformat_minor": 0,
  "metadata": {
    "colab": {
      "name": "Moringa_Data_Science_core12_ModuleII_W1_Independent_Project_2021_11_Kipsang_Nicholas_Machine_Learning.ipynb",
      "provenance": [],
      "authorship_tag": "ABX9TyO70JOYjB9VAUZXsnlJiqaZ",
      "include_colab_link": true
    },
    "kernelspec": {
      "name": "python3",
      "display_name": "Python 3"
    },
    "language_info": {
      "name": "python"
    }
  },
  "cells": [
    {
      "cell_type": "markdown",
      "metadata": {
        "id": "view-in-github",
        "colab_type": "text"
      },
      "source": [
        "<a href=\"https://colab.research.google.com/github/kipsangchepesa/Core12_moduleII-IP/blob/main/Moringa_Data_Science_core12_ModuleII_W1_Independent_Project_2021_11_Kipsang_Nicholas_Machine_Learning.ipynb\" target=\"_parent\"><img src=\"https://colab.research.google.com/assets/colab-badge.svg\" alt=\"Open In Colab\"/></a>"
      ]
    },
    {
      "cell_type": "markdown",
      "metadata": {
        "id": "D2R3tq-9g-uQ"
      },
      "source": [
        "# **Defining the question.**\n",
        "#a). Specific question\n",
        "Being a football analyst in Mchezopesa Ltd and tasked to predict result of a game between team 1 and team 2, based on who's home and who's away, and on whether or not the game is friendly (by including rank in training dataset).\n",
        "\n"
      ]
    },
    {
      "cell_type": "markdown",
      "metadata": {
        "id": "rBMgwhHaiGP9"
      },
      "source": [
        "#b). Metrics of success\n",
        "\n",
        " How many goals the home team scores?\n",
        "\n",
        " How many goals the away team scores?\n"
      ]
    },
    {
      "cell_type": "markdown",
      "metadata": {
        "id": "jfG7wGkOmWQg"
      },
      "source": [
        "**c).Understanding the context**\n",
        "\n",
        "FIFA introduced football ranking in 1993 to display teams ranking as per the games played, wins, loses, drawa and previous points. The rank is done by accumulative points. Every time a team plays, its ranking changes. Ranking is done periodilcally.\n",
        "\n",
        "In many cases, a team that plays another team that has higher rank is likely to win the match"
      ]
    },
    {
      "cell_type": "markdown",
      "metadata": {
        "id": "GJFmZijjSYuL"
      },
      "source": [
        "**d) Recording the Experimental Design**\n",
        "\n",
        "This project will be understake by doing a logistic regresions. I will train a model using tournament type, home team, away teamand Fifa ranking on the results which is win, draw or lose. Fifa ranking changes per year hence when feeding the model for prediting will have the year which will determin the team's ranking that year"
      ]
    },
    {
      "cell_type": "markdown",
      "metadata": {
        "id": "oKMeZokbSgYk"
      },
      "source": [
        "**e) Data Relevance**\n",
        "\n",
        "We have two data sets to work with\n",
        "\n",
        "1. The Fifa ranking dataset which shows ranking for each team periodically. We will comeupe with a new dataset from this that displays the ranking per team per year\n",
        "\n",
        "2.,. Fifa resuls: This shows each game results whenever the teams play. It has the date, teams, tournament type, and score. With this we will append results(W,D,L) and official Fifa ranking that year depending on the year they have played"
      ]
    },
    {
      "cell_type": "markdown",
      "metadata": {
        "id": "bvTxrHSXZTrS"
      },
      "source": [
        "##1. Importing the libraries"
      ]
    },
    {
      "cell_type": "code",
      "metadata": {
        "id": "KrRAiideXiIZ"
      },
      "source": [
        "#importing the libraries\n",
        "import pandas as pd \n",
        "import seaborn as sns\n",
        "from sklearn.model_selection import train_test_split\n",
        "from sklearn.linear_model import LogisticRegression\n",
        "from sklearn.metrics import confusion_matrix, classification_report, accuracy_score\n",
        "import matplotlib.pyplot as plt\n",
        "from sklearn.preprocessing import PolynomialFeatures"
      ],
      "execution_count": 1,
      "outputs": []
    },
    {
      "cell_type": "markdown",
      "metadata": {
        "id": "0hp_gyR0adUn"
      },
      "source": [
        "##2. Loading the dataset"
      ]
    },
    {
      "cell_type": "code",
      "metadata": {
        "id": "-lw0C8pYZpC-"
      },
      "source": [
        "#loading the dataset \n",
        "fifa_ranking = pd.read_csv('/content/fifa_ranking.csv')\n",
        "fifa_results=pd.read_csv('/content/results.csv')"
      ],
      "execution_count": 2,
      "outputs": []
    },
    {
      "cell_type": "code",
      "metadata": {
        "colab": {
          "base_uri": "https://localhost:8080/"
        },
        "id": "NMDtcix4T2ql",
        "outputId": "4c57eb38-2a29-49cc-f8f3-5d93765c02d6"
      },
      "source": [
        "# Determining the no. of records in our dataset\n",
        "fifa_ranking.shape"
      ],
      "execution_count": 3,
      "outputs": [
        {
          "output_type": "execute_result",
          "data": {
            "text/plain": [
              "(41361, 16)"
            ]
          },
          "metadata": {},
          "execution_count": 3
        }
      ]
    },
    {
      "cell_type": "code",
      "metadata": {
        "colab": {
          "base_uri": "https://localhost:8080/"
        },
        "id": "z0J2298yUGGj",
        "outputId": "61d3b513-cb9c-4b1d-c5fb-0e983f421864"
      },
      "source": [
        "fifa_results.shape"
      ],
      "execution_count": 4,
      "outputs": [
        {
          "output_type": "execute_result",
          "data": {
            "text/plain": [
              "(40839, 9)"
            ]
          },
          "metadata": {},
          "execution_count": 4
        }
      ]
    },
    {
      "cell_type": "code",
      "metadata": {
        "colab": {
          "base_uri": "https://localhost:8080/",
          "height": 206
        },
        "id": "dCjc9lx-UKYY",
        "outputId": "0380a40f-36a0-4fd3-e0cd-6b693441ecb5"
      },
      "source": [
        "# Previewing the top of our dataset\n",
        "fifa_results.head()"
      ],
      "execution_count": 5,
      "outputs": [
        {
          "output_type": "execute_result",
          "data": {
            "text/html": [
              "<div>\n",
              "<style scoped>\n",
              "    .dataframe tbody tr th:only-of-type {\n",
              "        vertical-align: middle;\n",
              "    }\n",
              "\n",
              "    .dataframe tbody tr th {\n",
              "        vertical-align: top;\n",
              "    }\n",
              "\n",
              "    .dataframe thead th {\n",
              "        text-align: right;\n",
              "    }\n",
              "</style>\n",
              "<table border=\"1\" class=\"dataframe\">\n",
              "  <thead>\n",
              "    <tr style=\"text-align: right;\">\n",
              "      <th></th>\n",
              "      <th>date</th>\n",
              "      <th>home_team</th>\n",
              "      <th>away_team</th>\n",
              "      <th>home_score</th>\n",
              "      <th>away_score</th>\n",
              "      <th>tournament</th>\n",
              "      <th>city</th>\n",
              "      <th>country</th>\n",
              "      <th>neutral</th>\n",
              "    </tr>\n",
              "  </thead>\n",
              "  <tbody>\n",
              "    <tr>\n",
              "      <th>0</th>\n",
              "      <td>1872-11-30</td>\n",
              "      <td>Scotland</td>\n",
              "      <td>England</td>\n",
              "      <td>0</td>\n",
              "      <td>0</td>\n",
              "      <td>Friendly</td>\n",
              "      <td>Glasgow</td>\n",
              "      <td>Scotland</td>\n",
              "      <td>False</td>\n",
              "    </tr>\n",
              "    <tr>\n",
              "      <th>1</th>\n",
              "      <td>1873-03-08</td>\n",
              "      <td>England</td>\n",
              "      <td>Scotland</td>\n",
              "      <td>4</td>\n",
              "      <td>2</td>\n",
              "      <td>Friendly</td>\n",
              "      <td>London</td>\n",
              "      <td>England</td>\n",
              "      <td>False</td>\n",
              "    </tr>\n",
              "    <tr>\n",
              "      <th>2</th>\n",
              "      <td>1874-03-07</td>\n",
              "      <td>Scotland</td>\n",
              "      <td>England</td>\n",
              "      <td>2</td>\n",
              "      <td>1</td>\n",
              "      <td>Friendly</td>\n",
              "      <td>Glasgow</td>\n",
              "      <td>Scotland</td>\n",
              "      <td>False</td>\n",
              "    </tr>\n",
              "    <tr>\n",
              "      <th>3</th>\n",
              "      <td>1875-03-06</td>\n",
              "      <td>England</td>\n",
              "      <td>Scotland</td>\n",
              "      <td>2</td>\n",
              "      <td>2</td>\n",
              "      <td>Friendly</td>\n",
              "      <td>London</td>\n",
              "      <td>England</td>\n",
              "      <td>False</td>\n",
              "    </tr>\n",
              "    <tr>\n",
              "      <th>4</th>\n",
              "      <td>1876-03-04</td>\n",
              "      <td>Scotland</td>\n",
              "      <td>England</td>\n",
              "      <td>3</td>\n",
              "      <td>0</td>\n",
              "      <td>Friendly</td>\n",
              "      <td>Glasgow</td>\n",
              "      <td>Scotland</td>\n",
              "      <td>False</td>\n",
              "    </tr>\n",
              "  </tbody>\n",
              "</table>\n",
              "</div>"
            ],
            "text/plain": [
              "         date home_team away_team  ...     city   country neutral\n",
              "0  1872-11-30  Scotland   England  ...  Glasgow  Scotland   False\n",
              "1  1873-03-08   England  Scotland  ...   London   England   False\n",
              "2  1874-03-07  Scotland   England  ...  Glasgow  Scotland   False\n",
              "3  1875-03-06   England  Scotland  ...   London   England   False\n",
              "4  1876-03-04  Scotland   England  ...  Glasgow  Scotland   False\n",
              "\n",
              "[5 rows x 9 columns]"
            ]
          },
          "metadata": {},
          "execution_count": 5
        }
      ]
    },
    {
      "cell_type": "code",
      "metadata": {
        "colab": {
          "base_uri": "https://localhost:8080/",
          "height": 206
        },
        "id": "wMX42JgzUTMP",
        "outputId": "97e7f7d5-73b3-4bbd-e0f2-dd426a415d69"
      },
      "source": [
        "# Importing label encoder\n",
        "# \n",
        "from sklearn.preprocessing import LabelEncoder\n",
        "categorical_features = ['tournament']\n",
        "le = LabelEncoder()\n",
        "\n",
        "# Converting the variables to numerical\n",
        "#\n",
        "for i in range(1):\n",
        "    new = le.fit_transform(fifa_results[categorical_features[i]])\n",
        "    fifa_results[categorical_features[i]] = new\n",
        "    \n",
        "fifa_results.head()"
      ],
      "execution_count": 6,
      "outputs": [
        {
          "output_type": "execute_result",
          "data": {
            "text/html": [
              "<div>\n",
              "<style scoped>\n",
              "    .dataframe tbody tr th:only-of-type {\n",
              "        vertical-align: middle;\n",
              "    }\n",
              "\n",
              "    .dataframe tbody tr th {\n",
              "        vertical-align: top;\n",
              "    }\n",
              "\n",
              "    .dataframe thead th {\n",
              "        text-align: right;\n",
              "    }\n",
              "</style>\n",
              "<table border=\"1\" class=\"dataframe\">\n",
              "  <thead>\n",
              "    <tr style=\"text-align: right;\">\n",
              "      <th></th>\n",
              "      <th>date</th>\n",
              "      <th>home_team</th>\n",
              "      <th>away_team</th>\n",
              "      <th>home_score</th>\n",
              "      <th>away_score</th>\n",
              "      <th>tournament</th>\n",
              "      <th>city</th>\n",
              "      <th>country</th>\n",
              "      <th>neutral</th>\n",
              "    </tr>\n",
              "  </thead>\n",
              "  <tbody>\n",
              "    <tr>\n",
              "      <th>0</th>\n",
              "      <td>1872-11-30</td>\n",
              "      <td>Scotland</td>\n",
              "      <td>England</td>\n",
              "      <td>0</td>\n",
              "      <td>0</td>\n",
              "      <td>54</td>\n",
              "      <td>Glasgow</td>\n",
              "      <td>Scotland</td>\n",
              "      <td>False</td>\n",
              "    </tr>\n",
              "    <tr>\n",
              "      <th>1</th>\n",
              "      <td>1873-03-08</td>\n",
              "      <td>England</td>\n",
              "      <td>Scotland</td>\n",
              "      <td>4</td>\n",
              "      <td>2</td>\n",
              "      <td>54</td>\n",
              "      <td>London</td>\n",
              "      <td>England</td>\n",
              "      <td>False</td>\n",
              "    </tr>\n",
              "    <tr>\n",
              "      <th>2</th>\n",
              "      <td>1874-03-07</td>\n",
              "      <td>Scotland</td>\n",
              "      <td>England</td>\n",
              "      <td>2</td>\n",
              "      <td>1</td>\n",
              "      <td>54</td>\n",
              "      <td>Glasgow</td>\n",
              "      <td>Scotland</td>\n",
              "      <td>False</td>\n",
              "    </tr>\n",
              "    <tr>\n",
              "      <th>3</th>\n",
              "      <td>1875-03-06</td>\n",
              "      <td>England</td>\n",
              "      <td>Scotland</td>\n",
              "      <td>2</td>\n",
              "      <td>2</td>\n",
              "      <td>54</td>\n",
              "      <td>London</td>\n",
              "      <td>England</td>\n",
              "      <td>False</td>\n",
              "    </tr>\n",
              "    <tr>\n",
              "      <th>4</th>\n",
              "      <td>1876-03-04</td>\n",
              "      <td>Scotland</td>\n",
              "      <td>England</td>\n",
              "      <td>3</td>\n",
              "      <td>0</td>\n",
              "      <td>54</td>\n",
              "      <td>Glasgow</td>\n",
              "      <td>Scotland</td>\n",
              "      <td>False</td>\n",
              "    </tr>\n",
              "  </tbody>\n",
              "</table>\n",
              "</div>"
            ],
            "text/plain": [
              "         date home_team away_team  ...     city   country  neutral\n",
              "0  1872-11-30  Scotland   England  ...  Glasgow  Scotland    False\n",
              "1  1873-03-08   England  Scotland  ...   London   England    False\n",
              "2  1874-03-07  Scotland   England  ...  Glasgow  Scotland    False\n",
              "3  1875-03-06   England  Scotland  ...   London   England    False\n",
              "4  1876-03-04  Scotland   England  ...  Glasgow  Scotland    False\n",
              "\n",
              "[5 rows x 9 columns]"
            ]
          },
          "metadata": {},
          "execution_count": 6
        }
      ]
    },
    {
      "cell_type": "code",
      "metadata": {
        "colab": {
          "base_uri": "https://localhost:8080/",
          "height": 313
        },
        "id": "IklRgMBkUd1r",
        "outputId": "32faa6df-6a19-4361-f2d8-b6db1c308410"
      },
      "source": [
        "# Previewing the bottom of our dataset\n",
        "fifa_ranking.head()\n",
        "# Importing label encoder\n",
        "# \n",
        "from sklearn.preprocessing import LabelEncoder\n",
        "categorical_features = ['tournament']\n",
        "le = LabelEncoder()\n",
        "\n",
        "# Converting the variables to numerical\n",
        "#\n",
        "\n",
        "new = le.fit_transform(fifa_ranking['confederation'])\n",
        "fifa_ranking['confederation'] = new\n",
        "    \n",
        "fifa_ranking.head()"
      ],
      "execution_count": 7,
      "outputs": [
        {
          "output_type": "execute_result",
          "data": {
            "text/html": [
              "<div>\n",
              "<style scoped>\n",
              "    .dataframe tbody tr th:only-of-type {\n",
              "        vertical-align: middle;\n",
              "    }\n",
              "\n",
              "    .dataframe tbody tr th {\n",
              "        vertical-align: top;\n",
              "    }\n",
              "\n",
              "    .dataframe thead th {\n",
              "        text-align: right;\n",
              "    }\n",
              "</style>\n",
              "<table border=\"1\" class=\"dataframe\">\n",
              "  <thead>\n",
              "    <tr style=\"text-align: right;\">\n",
              "      <th></th>\n",
              "      <th>rank</th>\n",
              "      <th>country_full</th>\n",
              "      <th>country_abrv</th>\n",
              "      <th>total_points</th>\n",
              "      <th>previous_points</th>\n",
              "      <th>rank_change</th>\n",
              "      <th>cur_year_avg</th>\n",
              "      <th>cur_year_avg_weighted</th>\n",
              "      <th>last_year_avg</th>\n",
              "      <th>last_year_avg_weighted</th>\n",
              "      <th>two_year_ago_avg</th>\n",
              "      <th>two_year_ago_weighted</th>\n",
              "      <th>three_year_ago_avg</th>\n",
              "      <th>three_year_ago_weighted</th>\n",
              "      <th>confederation</th>\n",
              "      <th>rank_date</th>\n",
              "    </tr>\n",
              "  </thead>\n",
              "  <tbody>\n",
              "    <tr>\n",
              "      <th>0</th>\n",
              "      <td>1</td>\n",
              "      <td>Germany</td>\n",
              "      <td>GER</td>\n",
              "      <td>0.0</td>\n",
              "      <td>57.0</td>\n",
              "      <td>0.0</td>\n",
              "      <td>0.0</td>\n",
              "      <td>0.0</td>\n",
              "      <td>0.0</td>\n",
              "      <td>0.0</td>\n",
              "      <td>0.0</td>\n",
              "      <td>0.0</td>\n",
              "      <td>0.0</td>\n",
              "      <td>0.0</td>\n",
              "      <td>5</td>\n",
              "      <td>1993-08-08</td>\n",
              "    </tr>\n",
              "    <tr>\n",
              "      <th>1</th>\n",
              "      <td>2</td>\n",
              "      <td>Italy</td>\n",
              "      <td>ITA</td>\n",
              "      <td>0.0</td>\n",
              "      <td>57.0</td>\n",
              "      <td>0.0</td>\n",
              "      <td>0.0</td>\n",
              "      <td>0.0</td>\n",
              "      <td>0.0</td>\n",
              "      <td>0.0</td>\n",
              "      <td>0.0</td>\n",
              "      <td>0.0</td>\n",
              "      <td>0.0</td>\n",
              "      <td>0.0</td>\n",
              "      <td>5</td>\n",
              "      <td>1993-08-08</td>\n",
              "    </tr>\n",
              "    <tr>\n",
              "      <th>2</th>\n",
              "      <td>3</td>\n",
              "      <td>Switzerland</td>\n",
              "      <td>SUI</td>\n",
              "      <td>0.0</td>\n",
              "      <td>50.0</td>\n",
              "      <td>9.0</td>\n",
              "      <td>0.0</td>\n",
              "      <td>0.0</td>\n",
              "      <td>0.0</td>\n",
              "      <td>0.0</td>\n",
              "      <td>0.0</td>\n",
              "      <td>0.0</td>\n",
              "      <td>0.0</td>\n",
              "      <td>0.0</td>\n",
              "      <td>5</td>\n",
              "      <td>1993-08-08</td>\n",
              "    </tr>\n",
              "    <tr>\n",
              "      <th>3</th>\n",
              "      <td>4</td>\n",
              "      <td>Sweden</td>\n",
              "      <td>SWE</td>\n",
              "      <td>0.0</td>\n",
              "      <td>55.0</td>\n",
              "      <td>0.0</td>\n",
              "      <td>0.0</td>\n",
              "      <td>0.0</td>\n",
              "      <td>0.0</td>\n",
              "      <td>0.0</td>\n",
              "      <td>0.0</td>\n",
              "      <td>0.0</td>\n",
              "      <td>0.0</td>\n",
              "      <td>0.0</td>\n",
              "      <td>5</td>\n",
              "      <td>1993-08-08</td>\n",
              "    </tr>\n",
              "    <tr>\n",
              "      <th>4</th>\n",
              "      <td>5</td>\n",
              "      <td>Argentina</td>\n",
              "      <td>ARG</td>\n",
              "      <td>0.0</td>\n",
              "      <td>51.0</td>\n",
              "      <td>5.0</td>\n",
              "      <td>0.0</td>\n",
              "      <td>0.0</td>\n",
              "      <td>0.0</td>\n",
              "      <td>0.0</td>\n",
              "      <td>0.0</td>\n",
              "      <td>0.0</td>\n",
              "      <td>0.0</td>\n",
              "      <td>0.0</td>\n",
              "      <td>3</td>\n",
              "      <td>1993-08-08</td>\n",
              "    </tr>\n",
              "  </tbody>\n",
              "</table>\n",
              "</div>"
            ],
            "text/plain": [
              "   rank country_full  ... confederation   rank_date\n",
              "0     1      Germany  ...             5  1993-08-08\n",
              "1     2        Italy  ...             5  1993-08-08\n",
              "2     3  Switzerland  ...             5  1993-08-08\n",
              "3     4       Sweden  ...             5  1993-08-08\n",
              "4     5    Argentina  ...             3  1993-08-08\n",
              "\n",
              "[5 rows x 16 columns]"
            ]
          },
          "metadata": {},
          "execution_count": 7
        }
      ]
    },
    {
      "cell_type": "code",
      "metadata": {
        "colab": {
          "base_uri": "https://localhost:8080/",
          "height": 313
        },
        "id": "E6rGPi5NUjli",
        "outputId": "1930da0a-d7f2-461d-b66b-bfcba22b4164"
      },
      "source": [
        "fifa_ranking.head()"
      ],
      "execution_count": 8,
      "outputs": [
        {
          "output_type": "execute_result",
          "data": {
            "text/html": [
              "<div>\n",
              "<style scoped>\n",
              "    .dataframe tbody tr th:only-of-type {\n",
              "        vertical-align: middle;\n",
              "    }\n",
              "\n",
              "    .dataframe tbody tr th {\n",
              "        vertical-align: top;\n",
              "    }\n",
              "\n",
              "    .dataframe thead th {\n",
              "        text-align: right;\n",
              "    }\n",
              "</style>\n",
              "<table border=\"1\" class=\"dataframe\">\n",
              "  <thead>\n",
              "    <tr style=\"text-align: right;\">\n",
              "      <th></th>\n",
              "      <th>rank</th>\n",
              "      <th>country_full</th>\n",
              "      <th>country_abrv</th>\n",
              "      <th>total_points</th>\n",
              "      <th>previous_points</th>\n",
              "      <th>rank_change</th>\n",
              "      <th>cur_year_avg</th>\n",
              "      <th>cur_year_avg_weighted</th>\n",
              "      <th>last_year_avg</th>\n",
              "      <th>last_year_avg_weighted</th>\n",
              "      <th>two_year_ago_avg</th>\n",
              "      <th>two_year_ago_weighted</th>\n",
              "      <th>three_year_ago_avg</th>\n",
              "      <th>three_year_ago_weighted</th>\n",
              "      <th>confederation</th>\n",
              "      <th>rank_date</th>\n",
              "    </tr>\n",
              "  </thead>\n",
              "  <tbody>\n",
              "    <tr>\n",
              "      <th>0</th>\n",
              "      <td>1</td>\n",
              "      <td>Germany</td>\n",
              "      <td>GER</td>\n",
              "      <td>0.0</td>\n",
              "      <td>57.0</td>\n",
              "      <td>0.0</td>\n",
              "      <td>0.0</td>\n",
              "      <td>0.0</td>\n",
              "      <td>0.0</td>\n",
              "      <td>0.0</td>\n",
              "      <td>0.0</td>\n",
              "      <td>0.0</td>\n",
              "      <td>0.0</td>\n",
              "      <td>0.0</td>\n",
              "      <td>5</td>\n",
              "      <td>1993-08-08</td>\n",
              "    </tr>\n",
              "    <tr>\n",
              "      <th>1</th>\n",
              "      <td>2</td>\n",
              "      <td>Italy</td>\n",
              "      <td>ITA</td>\n",
              "      <td>0.0</td>\n",
              "      <td>57.0</td>\n",
              "      <td>0.0</td>\n",
              "      <td>0.0</td>\n",
              "      <td>0.0</td>\n",
              "      <td>0.0</td>\n",
              "      <td>0.0</td>\n",
              "      <td>0.0</td>\n",
              "      <td>0.0</td>\n",
              "      <td>0.0</td>\n",
              "      <td>0.0</td>\n",
              "      <td>5</td>\n",
              "      <td>1993-08-08</td>\n",
              "    </tr>\n",
              "    <tr>\n",
              "      <th>2</th>\n",
              "      <td>3</td>\n",
              "      <td>Switzerland</td>\n",
              "      <td>SUI</td>\n",
              "      <td>0.0</td>\n",
              "      <td>50.0</td>\n",
              "      <td>9.0</td>\n",
              "      <td>0.0</td>\n",
              "      <td>0.0</td>\n",
              "      <td>0.0</td>\n",
              "      <td>0.0</td>\n",
              "      <td>0.0</td>\n",
              "      <td>0.0</td>\n",
              "      <td>0.0</td>\n",
              "      <td>0.0</td>\n",
              "      <td>5</td>\n",
              "      <td>1993-08-08</td>\n",
              "    </tr>\n",
              "    <tr>\n",
              "      <th>3</th>\n",
              "      <td>4</td>\n",
              "      <td>Sweden</td>\n",
              "      <td>SWE</td>\n",
              "      <td>0.0</td>\n",
              "      <td>55.0</td>\n",
              "      <td>0.0</td>\n",
              "      <td>0.0</td>\n",
              "      <td>0.0</td>\n",
              "      <td>0.0</td>\n",
              "      <td>0.0</td>\n",
              "      <td>0.0</td>\n",
              "      <td>0.0</td>\n",
              "      <td>0.0</td>\n",
              "      <td>0.0</td>\n",
              "      <td>5</td>\n",
              "      <td>1993-08-08</td>\n",
              "    </tr>\n",
              "    <tr>\n",
              "      <th>4</th>\n",
              "      <td>5</td>\n",
              "      <td>Argentina</td>\n",
              "      <td>ARG</td>\n",
              "      <td>0.0</td>\n",
              "      <td>51.0</td>\n",
              "      <td>5.0</td>\n",
              "      <td>0.0</td>\n",
              "      <td>0.0</td>\n",
              "      <td>0.0</td>\n",
              "      <td>0.0</td>\n",
              "      <td>0.0</td>\n",
              "      <td>0.0</td>\n",
              "      <td>0.0</td>\n",
              "      <td>0.0</td>\n",
              "      <td>3</td>\n",
              "      <td>1993-08-08</td>\n",
              "    </tr>\n",
              "  </tbody>\n",
              "</table>\n",
              "</div>"
            ],
            "text/plain": [
              "   rank country_full  ... confederation   rank_date\n",
              "0     1      Germany  ...             5  1993-08-08\n",
              "1     2        Italy  ...             5  1993-08-08\n",
              "2     3  Switzerland  ...             5  1993-08-08\n",
              "3     4       Sweden  ...             5  1993-08-08\n",
              "4     5    Argentina  ...             3  1993-08-08\n",
              "\n",
              "[5 rows x 16 columns]"
            ]
          },
          "metadata": {},
          "execution_count": 8
        }
      ]
    },
    {
      "cell_type": "markdown",
      "metadata": {
        "id": "UoYNNZ5MU6Yh"
      },
      "source": [
        "**checking and making sure each colum has appropriate data types**"
      ]
    },
    {
      "cell_type": "code",
      "metadata": {
        "colab": {
          "base_uri": "https://localhost:8080/"
        },
        "id": "r5z-3KrGUy91",
        "outputId": "0f4dc795-0116-4fe8-dc09-75c892b110de"
      },
      "source": [
        "# Checking whether Fifa ranking has an appropriate datatype\n",
        "#\n",
        "fifa_ranking.info()\n",
        "#Date  need to be converted"
      ],
      "execution_count": 9,
      "outputs": [
        {
          "output_type": "stream",
          "name": "stdout",
          "text": [
            "<class 'pandas.core.frame.DataFrame'>\n",
            "RangeIndex: 41361 entries, 0 to 41360\n",
            "Data columns (total 16 columns):\n",
            " #   Column                   Non-Null Count  Dtype  \n",
            "---  ------                   --------------  -----  \n",
            " 0   rank                     41361 non-null  int64  \n",
            " 1   country_full             41361 non-null  object \n",
            " 2   country_abrv             41360 non-null  object \n",
            " 3   total_points             41360 non-null  float64\n",
            " 4   previous_points          41360 non-null  float64\n",
            " 5   rank_change              41360 non-null  float64\n",
            " 6   cur_year_avg             41360 non-null  float64\n",
            " 7   cur_year_avg_weighted    41360 non-null  float64\n",
            " 8   last_year_avg            41360 non-null  float64\n",
            " 9   last_year_avg_weighted   41360 non-null  float64\n",
            " 10  two_year_ago_avg         41360 non-null  float64\n",
            " 11  two_year_ago_weighted    41360 non-null  float64\n",
            " 12  three_year_ago_avg       41360 non-null  float64\n",
            " 13  three_year_ago_weighted  41360 non-null  float64\n",
            " 14  confederation            41361 non-null  int64  \n",
            " 15  rank_date                41360 non-null  object \n",
            "dtypes: float64(11), int64(2), object(3)\n",
            "memory usage: 5.0+ MB\n"
          ]
        }
      ]
    },
    {
      "cell_type": "code",
      "metadata": {
        "id": "6WIfMqfQVItE"
      },
      "source": [
        "# convert date colukns to date type\n",
        "fifa_ranking['rank_date']=pd.to_datetime(fifa_ranking['rank_date'])"
      ],
      "execution_count": 10,
      "outputs": []
    },
    {
      "cell_type": "code",
      "metadata": {
        "colab": {
          "base_uri": "https://localhost:8080/"
        },
        "id": "MLGAsqZeVSIe",
        "outputId": "4bc3942e-d6a3-42a8-f4c6-a5d93d452169"
      },
      "source": [
        "#Fifa results data types\n",
        "#convert date to date type\n",
        "fifa_results['date']=pd.to_datetime(fifa_results['date'])\n",
        "fifa_results.info()"
      ],
      "execution_count": 11,
      "outputs": [
        {
          "output_type": "stream",
          "name": "stdout",
          "text": [
            "<class 'pandas.core.frame.DataFrame'>\n",
            "RangeIndex: 40839 entries, 0 to 40838\n",
            "Data columns (total 9 columns):\n",
            " #   Column      Non-Null Count  Dtype         \n",
            "---  ------      --------------  -----         \n",
            " 0   date        40839 non-null  datetime64[ns]\n",
            " 1   home_team   40839 non-null  object        \n",
            " 2   away_team   40839 non-null  object        \n",
            " 3   home_score  40839 non-null  int64         \n",
            " 4   away_score  40839 non-null  int64         \n",
            " 5   tournament  40839 non-null  int64         \n",
            " 6   city        40839 non-null  object        \n",
            " 7   country     40839 non-null  object        \n",
            " 8   neutral     40839 non-null  bool          \n",
            "dtypes: bool(1), datetime64[ns](1), int64(3), object(4)\n",
            "memory usage: 2.5+ MB\n"
          ]
        }
      ]
    },
    {
      "cell_type": "markdown",
      "metadata": {
        "id": "JgK3s9qJVh5V"
      },
      "source": [
        "**4. External Data Source Validation**\n",
        "\n",
        "Making sure your data matches something outside of the dataset is very important. It allows you to ensure that the measurements are roughly in line with what they should be and it serves as a check on what other things might be wrong in your dataset. External validation can often be as simple as checking your data against a single number, as we will do here.\n",
        "\n",
        "**a.Validation**\n",
        "\n",
        "We took some records of fifa ranking and checked against official fifa ranking. Its correct. We also checked games played over time and realized the data given is correct representation of FIFA football match played"
      ]
    },
    {
      "cell_type": "markdown",
      "metadata": {
        "id": "7slEFgKrVtHw"
      },
      "source": [
        "**5. Tidying the Dataset**"
      ]
    },
    {
      "cell_type": "code",
      "metadata": {
        "colab": {
          "base_uri": "https://localhost:8080/",
          "height": 333
        },
        "id": "t2H8bYoOVbCS",
        "outputId": "d778cf7a-4754-4ad3-c226-99d71c835a1b"
      },
      "source": [
        "# Identifying the Missing Data\n",
        "sns.heatmap(fifa_results.isnull(), yticklabels=False,cbar=False, cmap='viridis')"
      ],
      "execution_count": 14,
      "outputs": [
        {
          "output_type": "execute_result",
          "data": {
            "text/plain": [
              "<matplotlib.axes._subplots.AxesSubplot at 0x7fa13e59e4d0>"
            ]
          },
          "metadata": {},
          "execution_count": 14
        },
        {
          "output_type": "display_data",
          "data": {
            "image/png": "[encoded data removed]",
            "text/plain": [
              "<Figure size 432x288 with 1 Axes>"
            ]
          },
          "metadata": {
            "needs_background": "light"
          }
        }
      ]
    },
    {
      "cell_type": "code",
      "metadata": {
        "colab": {
          "base_uri": "https://localhost:8080/",
          "height": 697
        },
        "id": "eLCVdRlbWFHx",
        "outputId": "9f580d84-c0f1-411f-88b0-2ba69bec94ab"
      },
      "source": [
        "# missing data in the fifa ranking \n",
        "\n",
        "sns.heatmap(fifa_ranking.isnull(), yticklabels=False,cbar=False, cmap='viridis')\n",
        "fifa_ranking.isnull().sum()"
      ],
      "execution_count": 15,
      "outputs": [
        {
          "output_type": "execute_result",
          "data": {
            "text/plain": [
              "rank                       0\n",
              "country_full               0\n",
              "country_abrv               1\n",
              "total_points               1\n",
              "previous_points            1\n",
              "rank_change                1\n",
              "cur_year_avg               1\n",
              "cur_year_avg_weighted      1\n",
              "last_year_avg              1\n",
              "last_year_avg_weighted     1\n",
              "two_year_ago_avg           1\n",
              "two_year_ago_weighted      1\n",
              "three_year_ago_avg         1\n",
              "three_year_ago_weighted    1\n",
              "confederation              0\n",
              "rank_date                  1\n",
              "dtype: int64"
            ]
          },
          "metadata": {},
          "execution_count": 15
        },
        {
          "output_type": "display_data",
          "data": {
            "image/png": "[encoded data removed]",
            "text/plain": [
              "<Figure size 432x288 with 1 Axes>"
            ]
          },
          "metadata": {
            "needs_background": "light"
          }
        }
      ]
    },
    {
      "cell_type": "markdown",
      "metadata": {
        "id": "1x1CsUaqW2Q2"
      },
      "source": [
        "***Seems there are no missing values. However, when we merge the dataset or assign the values of ranking to fifa results table we are likely to get missing values***"
      ]
    },
    {
      "cell_type": "markdown",
      "metadata": {
        "id": "5VjmOAT1XYx8"
      },
      "source": [
        "**More data cleaning procedures**"
      ]
    },
    {
      "cell_type": "code",
      "metadata": {
        "id": "BJQTT0HaXB1l"
      },
      "source": [
        "#Add year to the two datasets using dt.year method \n",
        "fifa_results['Year']= fifa_results['date'].dt.year\n",
        "fifa_ranking['Year']=fifa_ranking['rank_date'].dt.year"
      ],
      "execution_count": 16,
      "outputs": []
    },
    {
      "cell_type": "code",
      "metadata": {
        "colab": {
          "base_uri": "https://localhost:8080/",
          "height": 423
        },
        "id": "e-r4SF0TXfLg",
        "outputId": "6a6a5a06-2459-4621-91c7-c53be72ad4cb"
      },
      "source": [
        "# Creating a dataset of fifa results to incorporat only years that are in fifa ranking\n",
        "Years = list(fifa_ranking['Year'].unique())\n",
        "#get those games from 1993 when fifa started ranking teams\n",
        "fifa_results = fifa_results[fifa_results['Year'].isin(Years)]\n",
        "fifa_results"
      ],
      "execution_count": 17,
      "outputs": [
        {
          "output_type": "execute_result",
          "data": {
            "text/html": [
              "<div>\n",
              "<style scoped>\n",
              "    .dataframe tbody tr th:only-of-type {\n",
              "        vertical-align: middle;\n",
              "    }\n",
              "\n",
              "    .dataframe tbody tr th {\n",
              "        vertical-align: top;\n",
              "    }\n",
              "\n",
              "    .dataframe thead th {\n",
              "        text-align: right;\n",
              "    }\n",
              "</style>\n",
              "<table border=\"1\" class=\"dataframe\">\n",
              "  <thead>\n",
              "    <tr style=\"text-align: right;\">\n",
              "      <th></th>\n",
              "      <th>date</th>\n",
              "      <th>home_team</th>\n",
              "      <th>away_team</th>\n",
              "      <th>home_score</th>\n",
              "      <th>away_score</th>\n",
              "      <th>tournament</th>\n",
              "      <th>city</th>\n",
              "      <th>country</th>\n",
              "      <th>neutral</th>\n",
              "      <th>Year</th>\n",
              "    </tr>\n",
              "  </thead>\n",
              "  <tbody>\n",
              "    <tr>\n",
              "      <th>17361</th>\n",
              "      <td>1993-01-01</td>\n",
              "      <td>Ghana</td>\n",
              "      <td>Mali</td>\n",
              "      <td>1</td>\n",
              "      <td>1</td>\n",
              "      <td>54</td>\n",
              "      <td>Libreville</td>\n",
              "      <td>Gabon</td>\n",
              "      <td>True</td>\n",
              "      <td>1993</td>\n",
              "    </tr>\n",
              "    <tr>\n",
              "      <th>17362</th>\n",
              "      <td>1993-01-02</td>\n",
              "      <td>Gabon</td>\n",
              "      <td>Burkina Faso</td>\n",
              "      <td>1</td>\n",
              "      <td>1</td>\n",
              "      <td>54</td>\n",
              "      <td>Libreville</td>\n",
              "      <td>Gabon</td>\n",
              "      <td>False</td>\n",
              "      <td>1993</td>\n",
              "    </tr>\n",
              "    <tr>\n",
              "      <th>17363</th>\n",
              "      <td>1993-01-02</td>\n",
              "      <td>Kuwait</td>\n",
              "      <td>Lebanon</td>\n",
              "      <td>2</td>\n",
              "      <td>0</td>\n",
              "      <td>54</td>\n",
              "      <td>Kuwait City</td>\n",
              "      <td>Kuwait</td>\n",
              "      <td>False</td>\n",
              "      <td>1993</td>\n",
              "    </tr>\n",
              "    <tr>\n",
              "      <th>17364</th>\n",
              "      <td>1993-01-03</td>\n",
              "      <td>Burkina Faso</td>\n",
              "      <td>Mali</td>\n",
              "      <td>1</td>\n",
              "      <td>0</td>\n",
              "      <td>54</td>\n",
              "      <td>Libreville</td>\n",
              "      <td>Gabon</td>\n",
              "      <td>True</td>\n",
              "      <td>1993</td>\n",
              "    </tr>\n",
              "    <tr>\n",
              "      <th>17365</th>\n",
              "      <td>1993-01-03</td>\n",
              "      <td>Gabon</td>\n",
              "      <td>Ghana</td>\n",
              "      <td>2</td>\n",
              "      <td>3</td>\n",
              "      <td>54</td>\n",
              "      <td>Libreville</td>\n",
              "      <td>Gabon</td>\n",
              "      <td>False</td>\n",
              "      <td>1993</td>\n",
              "    </tr>\n",
              "    <tr>\n",
              "      <th>...</th>\n",
              "      <td>...</td>\n",
              "      <td>...</td>\n",
              "      <td>...</td>\n",
              "      <td>...</td>\n",
              "      <td>...</td>\n",
              "      <td>...</td>\n",
              "      <td>...</td>\n",
              "      <td>...</td>\n",
              "      <td>...</td>\n",
              "      <td>...</td>\n",
              "    </tr>\n",
              "    <tr>\n",
              "      <th>33767</th>\n",
              "      <td>2011-12-21</td>\n",
              "      <td>Chile</td>\n",
              "      <td>Paraguay</td>\n",
              "      <td>3</td>\n",
              "      <td>2</td>\n",
              "      <td>54</td>\n",
              "      <td>La Serena</td>\n",
              "      <td>Chile</td>\n",
              "      <td>False</td>\n",
              "      <td>2011</td>\n",
              "    </tr>\n",
              "    <tr>\n",
              "      <th>33768</th>\n",
              "      <td>2011-12-22</td>\n",
              "      <td>Angola</td>\n",
              "      <td>Namibia</td>\n",
              "      <td>0</td>\n",
              "      <td>0</td>\n",
              "      <td>54</td>\n",
              "      <td>Lubango</td>\n",
              "      <td>Angola</td>\n",
              "      <td>False</td>\n",
              "      <td>2011</td>\n",
              "    </tr>\n",
              "    <tr>\n",
              "      <th>33769</th>\n",
              "      <td>2011-12-22</td>\n",
              "      <td>Venezuela</td>\n",
              "      <td>Costa Rica</td>\n",
              "      <td>0</td>\n",
              "      <td>2</td>\n",
              "      <td>54</td>\n",
              "      <td>Barquisimeto</td>\n",
              "      <td>Venezuela</td>\n",
              "      <td>False</td>\n",
              "      <td>2011</td>\n",
              "    </tr>\n",
              "    <tr>\n",
              "      <th>33770</th>\n",
              "      <td>2011-12-28</td>\n",
              "      <td>Basque Country</td>\n",
              "      <td>Tunisia</td>\n",
              "      <td>0</td>\n",
              "      <td>2</td>\n",
              "      <td>54</td>\n",
              "      <td>Bilbao</td>\n",
              "      <td>Spain</td>\n",
              "      <td>False</td>\n",
              "      <td>2011</td>\n",
              "    </tr>\n",
              "    <tr>\n",
              "      <th>33771</th>\n",
              "      <td>2011-12-30</td>\n",
              "      <td>Catalonia</td>\n",
              "      <td>Tunisia</td>\n",
              "      <td>0</td>\n",
              "      <td>0</td>\n",
              "      <td>54</td>\n",
              "      <td>Barcelona</td>\n",
              "      <td>Spain</td>\n",
              "      <td>False</td>\n",
              "      <td>2011</td>\n",
              "    </tr>\n",
              "  </tbody>\n",
              "</table>\n",
              "<p>16411 rows × 10 columns</p>\n",
              "</div>"
            ],
            "text/plain": [
              "            date       home_team     away_team  ...    country  neutral  Year\n",
              "17361 1993-01-01           Ghana          Mali  ...      Gabon     True  1993\n",
              "17362 1993-01-02           Gabon  Burkina Faso  ...      Gabon    False  1993\n",
              "17363 1993-01-02          Kuwait       Lebanon  ...     Kuwait    False  1993\n",
              "17364 1993-01-03    Burkina Faso          Mali  ...      Gabon     True  1993\n",
              "17365 1993-01-03           Gabon         Ghana  ...      Gabon    False  1993\n",
              "...          ...             ...           ...  ...        ...      ...   ...\n",
              "33767 2011-12-21           Chile      Paraguay  ...      Chile    False  2011\n",
              "33768 2011-12-22          Angola       Namibia  ...     Angola    False  2011\n",
              "33769 2011-12-22       Venezuela    Costa Rica  ...  Venezuela    False  2011\n",
              "33770 2011-12-28  Basque Country       Tunisia  ...      Spain    False  2011\n",
              "33771 2011-12-30       Catalonia       Tunisia  ...      Spain    False  2011\n",
              "\n",
              "[16411 rows x 10 columns]"
            ]
          },
          "metadata": {},
          "execution_count": 17
        }
      ]
    },
    {
      "cell_type": "code",
      "metadata": {
        "id": "-PziofhrYBpD"
      },
      "source": [
        "# create a new dataframe for fifa ranking that will show teams and ranks per year\n",
        "new_ranks=fifa_ranking.set_index('country_full')[['rank','Year']].drop_duplicates().reset_index()\n",
        "#new_ranks.to_csv('data/Fifa_new_ranks.csv')"
      ],
      "execution_count": 18,
      "outputs": []
    },
    {
      "cell_type": "code",
      "metadata": {
        "colab": {
          "base_uri": "https://localhost:8080/",
          "height": 423
        },
        "id": "CPZMcoykYIft",
        "outputId": "4d509f4f-e973-41d1-a595-f27529311109"
      },
      "source": [
        "new_ranks"
      ],
      "execution_count": 19,
      "outputs": [
        {
          "output_type": "execute_result",
          "data": {
            "text/html": [
              "<div>\n",
              "<style scoped>\n",
              "    .dataframe tbody tr th:only-of-type {\n",
              "        vertical-align: middle;\n",
              "    }\n",
              "\n",
              "    .dataframe tbody tr th {\n",
              "        vertical-align: top;\n",
              "    }\n",
              "\n",
              "    .dataframe thead th {\n",
              "        text-align: right;\n",
              "    }\n",
              "</style>\n",
              "<table border=\"1\" class=\"dataframe\">\n",
              "  <thead>\n",
              "    <tr style=\"text-align: right;\">\n",
              "      <th></th>\n",
              "      <th>country_full</th>\n",
              "      <th>rank</th>\n",
              "      <th>Year</th>\n",
              "    </tr>\n",
              "  </thead>\n",
              "  <tbody>\n",
              "    <tr>\n",
              "      <th>0</th>\n",
              "      <td>Germany</td>\n",
              "      <td>1</td>\n",
              "      <td>1993.0</td>\n",
              "    </tr>\n",
              "    <tr>\n",
              "      <th>1</th>\n",
              "      <td>Italy</td>\n",
              "      <td>2</td>\n",
              "      <td>1993.0</td>\n",
              "    </tr>\n",
              "    <tr>\n",
              "      <th>2</th>\n",
              "      <td>Switzerland</td>\n",
              "      <td>3</td>\n",
              "      <td>1993.0</td>\n",
              "    </tr>\n",
              "    <tr>\n",
              "      <th>3</th>\n",
              "      <td>Sweden</td>\n",
              "      <td>4</td>\n",
              "      <td>1993.0</td>\n",
              "    </tr>\n",
              "    <tr>\n",
              "      <th>4</th>\n",
              "      <td>Argentina</td>\n",
              "      <td>5</td>\n",
              "      <td>1993.0</td>\n",
              "    </tr>\n",
              "    <tr>\n",
              "      <th>...</th>\n",
              "      <td>...</td>\n",
              "      <td>...</td>\n",
              "      <td>...</td>\n",
              "    </tr>\n",
              "    <tr>\n",
              "      <th>3741</th>\n",
              "      <td>Cook Islands</td>\n",
              "      <td>190</td>\n",
              "      <td>2011.0</td>\n",
              "    </tr>\n",
              "    <tr>\n",
              "      <th>3742</th>\n",
              "      <td>Bahamas</td>\n",
              "      <td>196</td>\n",
              "      <td>2011.0</td>\n",
              "    </tr>\n",
              "    <tr>\n",
              "      <th>3743</th>\n",
              "      <td>Aruba</td>\n",
              "      <td>198</td>\n",
              "      <td>2011.0</td>\n",
              "    </tr>\n",
              "    <tr>\n",
              "      <th>3744</th>\n",
              "      <td>American Samoa</td>\n",
              "      <td>204</td>\n",
              "      <td>2011.0</td>\n",
              "    </tr>\n",
              "    <tr>\n",
              "      <th>3745</th>\n",
              "      <td>Nep</td>\n",
              "      <td>153</td>\n",
              "      <td>NaN</td>\n",
              "    </tr>\n",
              "  </tbody>\n",
              "</table>\n",
              "<p>3746 rows × 3 columns</p>\n",
              "</div>"
            ],
            "text/plain": [
              "        country_full  rank    Year\n",
              "0            Germany     1  1993.0\n",
              "1              Italy     2  1993.0\n",
              "2        Switzerland     3  1993.0\n",
              "3             Sweden     4  1993.0\n",
              "4          Argentina     5  1993.0\n",
              "...              ...   ...     ...\n",
              "3741    Cook Islands   190  2011.0\n",
              "3742         Bahamas   196  2011.0\n",
              "3743           Aruba   198  2011.0\n",
              "3744  American Samoa   204  2011.0\n",
              "3745             Nep   153     NaN\n",
              "\n",
              "[3746 rows x 3 columns]"
            ]
          },
          "metadata": {},
          "execution_count": 19
        }
      ]
    },
    {
      "cell_type": "markdown",
      "metadata": {
        "id": "0tOVAjG7ZisC"
      },
      "source": [
        "**append ranks and results to fifa results table**"
      ]
    },
    {
      "cell_type": "code",
      "metadata": {
        "id": "ndfVTdupZiAP"
      },
      "source": [
        "# Function to append home and away rank\n",
        "def update_rank(country, year):\n",
        "    home_rank= new_ranks[(new_ranks['country_full']==country) & (new_ranks['Year']==year)]['rank'].values#.reshape([1])\n",
        "    return home_rank"
      ],
      "execution_count": 20,
      "outputs": []
    },
    {
      "cell_type": "code",
      "metadata": {
        "id": "R9HtD5_qYeNo"
      },
      "source": [
        "#Append home rank using the function by creating  a new column \n",
        "fifa_results['Home_rank'] = fifa_results.apply(lambda x: update_rank(x['home_team'], x['Year']), axis=1)"
      ],
      "execution_count": 21,
      "outputs": []
    },
    {
      "cell_type": "code",
      "metadata": {
        "id": "zNXfnv6jbNb-"
      },
      "source": [
        "#Append home rank using the function by creating  a new column \n",
        "fifa_results['Away_rank'] = fifa_results.apply(lambda x: update_rank(x['away_team'], x['Year']), axis=1)"
      ],
      "execution_count": 22,
      "outputs": []
    },
    {
      "cell_type": "code",
      "metadata": {
        "colab": {
          "base_uri": "https://localhost:8080/",
          "height": 423
        },
        "id": "TrjT9ePbbWZI",
        "outputId": "0bcd6052-4e59-41a8-8c57-12a7f3f4ede6"
      },
      "source": [
        "fifa_results"
      ],
      "execution_count": 23,
      "outputs": [
        {
          "output_type": "execute_result",
          "data": {
            "text/html": [
              "<div>\n",
              "<style scoped>\n",
              "    .dataframe tbody tr th:only-of-type {\n",
              "        vertical-align: middle;\n",
              "    }\n",
              "\n",
              "    .dataframe tbody tr th {\n",
              "        vertical-align: top;\n",
              "    }\n",
              "\n",
              "    .dataframe thead th {\n",
              "        text-align: right;\n",
              "    }\n",
              "</style>\n",
              "<table border=\"1\" class=\"dataframe\">\n",
              "  <thead>\n",
              "    <tr style=\"text-align: right;\">\n",
              "      <th></th>\n",
              "      <th>date</th>\n",
              "      <th>home_team</th>\n",
              "      <th>away_team</th>\n",
              "      <th>home_score</th>\n",
              "      <th>away_score</th>\n",
              "      <th>tournament</th>\n",
              "      <th>city</th>\n",
              "      <th>country</th>\n",
              "      <th>neutral</th>\n",
              "      <th>Year</th>\n",
              "      <th>Home_rank</th>\n",
              "      <th>Away_rank</th>\n",
              "    </tr>\n",
              "  </thead>\n",
              "  <tbody>\n",
              "    <tr>\n",
              "      <th>17361</th>\n",
              "      <td>1993-01-01</td>\n",
              "      <td>Ghana</td>\n",
              "      <td>Mali</td>\n",
              "      <td>1</td>\n",
              "      <td>1</td>\n",
              "      <td>54</td>\n",
              "      <td>Libreville</td>\n",
              "      <td>Gabon</td>\n",
              "      <td>True</td>\n",
              "      <td>1993</td>\n",
              "      <td>[48]</td>\n",
              "      <td>[74]</td>\n",
              "    </tr>\n",
              "    <tr>\n",
              "      <th>17362</th>\n",
              "      <td>1993-01-02</td>\n",
              "      <td>Gabon</td>\n",
              "      <td>Burkina Faso</td>\n",
              "      <td>1</td>\n",
              "      <td>1</td>\n",
              "      <td>54</td>\n",
              "      <td>Libreville</td>\n",
              "      <td>Gabon</td>\n",
              "      <td>False</td>\n",
              "      <td>1993</td>\n",
              "      <td>[64]</td>\n",
              "      <td>[113]</td>\n",
              "    </tr>\n",
              "    <tr>\n",
              "      <th>17363</th>\n",
              "      <td>1993-01-02</td>\n",
              "      <td>Kuwait</td>\n",
              "      <td>Lebanon</td>\n",
              "      <td>2</td>\n",
              "      <td>0</td>\n",
              "      <td>54</td>\n",
              "      <td>Kuwait City</td>\n",
              "      <td>Kuwait</td>\n",
              "      <td>False</td>\n",
              "      <td>1993</td>\n",
              "      <td>[60]</td>\n",
              "      <td>[108]</td>\n",
              "    </tr>\n",
              "    <tr>\n",
              "      <th>17364</th>\n",
              "      <td>1993-01-03</td>\n",
              "      <td>Burkina Faso</td>\n",
              "      <td>Mali</td>\n",
              "      <td>1</td>\n",
              "      <td>0</td>\n",
              "      <td>54</td>\n",
              "      <td>Libreville</td>\n",
              "      <td>Gabon</td>\n",
              "      <td>True</td>\n",
              "      <td>1993</td>\n",
              "      <td>[113]</td>\n",
              "      <td>[74]</td>\n",
              "    </tr>\n",
              "    <tr>\n",
              "      <th>17365</th>\n",
              "      <td>1993-01-03</td>\n",
              "      <td>Gabon</td>\n",
              "      <td>Ghana</td>\n",
              "      <td>2</td>\n",
              "      <td>3</td>\n",
              "      <td>54</td>\n",
              "      <td>Libreville</td>\n",
              "      <td>Gabon</td>\n",
              "      <td>False</td>\n",
              "      <td>1993</td>\n",
              "      <td>[64]</td>\n",
              "      <td>[48]</td>\n",
              "    </tr>\n",
              "    <tr>\n",
              "      <th>...</th>\n",
              "      <td>...</td>\n",
              "      <td>...</td>\n",
              "      <td>...</td>\n",
              "      <td>...</td>\n",
              "      <td>...</td>\n",
              "      <td>...</td>\n",
              "      <td>...</td>\n",
              "      <td>...</td>\n",
              "      <td>...</td>\n",
              "      <td>...</td>\n",
              "      <td>...</td>\n",
              "      <td>...</td>\n",
              "    </tr>\n",
              "    <tr>\n",
              "      <th>33767</th>\n",
              "      <td>2011-12-21</td>\n",
              "      <td>Chile</td>\n",
              "      <td>Paraguay</td>\n",
              "      <td>3</td>\n",
              "      <td>2</td>\n",
              "      <td>54</td>\n",
              "      <td>La Serena</td>\n",
              "      <td>Chile</td>\n",
              "      <td>False</td>\n",
              "      <td>2011</td>\n",
              "      <td>[15]</td>\n",
              "      <td>[24]</td>\n",
              "    </tr>\n",
              "    <tr>\n",
              "      <th>33768</th>\n",
              "      <td>2011-12-22</td>\n",
              "      <td>Angola</td>\n",
              "      <td>Namibia</td>\n",
              "      <td>0</td>\n",
              "      <td>0</td>\n",
              "      <td>54</td>\n",
              "      <td>Lubango</td>\n",
              "      <td>Angola</td>\n",
              "      <td>False</td>\n",
              "      <td>2011</td>\n",
              "      <td>[88]</td>\n",
              "      <td>[138]</td>\n",
              "    </tr>\n",
              "    <tr>\n",
              "      <th>33769</th>\n",
              "      <td>2011-12-22</td>\n",
              "      <td>Venezuela</td>\n",
              "      <td>Costa Rica</td>\n",
              "      <td>0</td>\n",
              "      <td>2</td>\n",
              "      <td>54</td>\n",
              "      <td>Barquisimeto</td>\n",
              "      <td>Venezuela</td>\n",
              "      <td>False</td>\n",
              "      <td>2011</td>\n",
              "      <td>[]</td>\n",
              "      <td>[69]</td>\n",
              "    </tr>\n",
              "    <tr>\n",
              "      <th>33770</th>\n",
              "      <td>2011-12-28</td>\n",
              "      <td>Basque Country</td>\n",
              "      <td>Tunisia</td>\n",
              "      <td>0</td>\n",
              "      <td>2</td>\n",
              "      <td>54</td>\n",
              "      <td>Bilbao</td>\n",
              "      <td>Spain</td>\n",
              "      <td>False</td>\n",
              "      <td>2011</td>\n",
              "      <td>[]</td>\n",
              "      <td>[44]</td>\n",
              "    </tr>\n",
              "    <tr>\n",
              "      <th>33771</th>\n",
              "      <td>2011-12-30</td>\n",
              "      <td>Catalonia</td>\n",
              "      <td>Tunisia</td>\n",
              "      <td>0</td>\n",
              "      <td>0</td>\n",
              "      <td>54</td>\n",
              "      <td>Barcelona</td>\n",
              "      <td>Spain</td>\n",
              "      <td>False</td>\n",
              "      <td>2011</td>\n",
              "      <td>[]</td>\n",
              "      <td>[44]</td>\n",
              "    </tr>\n",
              "  </tbody>\n",
              "</table>\n",
              "<p>16411 rows × 12 columns</p>\n",
              "</div>"
            ],
            "text/plain": [
              "            date       home_team     away_team  ...  Year  Home_rank  Away_rank\n",
              "17361 1993-01-01           Ghana          Mali  ...  1993       [48]       [74]\n",
              "17362 1993-01-02           Gabon  Burkina Faso  ...  1993       [64]      [113]\n",
              "17363 1993-01-02          Kuwait       Lebanon  ...  1993       [60]      [108]\n",
              "17364 1993-01-03    Burkina Faso          Mali  ...  1993      [113]       [74]\n",
              "17365 1993-01-03           Gabon         Ghana  ...  1993       [64]       [48]\n",
              "...          ...             ...           ...  ...   ...        ...        ...\n",
              "33767 2011-12-21           Chile      Paraguay  ...  2011       [15]       [24]\n",
              "33768 2011-12-22          Angola       Namibia  ...  2011       [88]      [138]\n",
              "33769 2011-12-22       Venezuela    Costa Rica  ...  2011         []       [69]\n",
              "33770 2011-12-28  Basque Country       Tunisia  ...  2011         []       [44]\n",
              "33771 2011-12-30       Catalonia       Tunisia  ...  2011         []       [44]\n",
              "\n",
              "[16411 rows x 12 columns]"
            ]
          },
          "metadata": {},
          "execution_count": 23
        }
      ]
    },
    {
      "cell_type": "code",
      "metadata": {
        "colab": {
          "base_uri": "https://localhost:8080/",
          "height": 423
        },
        "id": "nyukyFpDbodk",
        "outputId": "dd6293b7-538e-4ce9-a9a8-5d55ead7b7ad"
      },
      "source": [
        "fifa_results"
      ],
      "execution_count": 24,
      "outputs": [
        {
          "output_type": "execute_result",
          "data": {
            "text/html": [
              "<div>\n",
              "<style scoped>\n",
              "    .dataframe tbody tr th:only-of-type {\n",
              "        vertical-align: middle;\n",
              "    }\n",
              "\n",
              "    .dataframe tbody tr th {\n",
              "        vertical-align: top;\n",
              "    }\n",
              "\n",
              "    .dataframe thead th {\n",
              "        text-align: right;\n",
              "    }\n",
              "</style>\n",
              "<table border=\"1\" class=\"dataframe\">\n",
              "  <thead>\n",
              "    <tr style=\"text-align: right;\">\n",
              "      <th></th>\n",
              "      <th>date</th>\n",
              "      <th>home_team</th>\n",
              "      <th>away_team</th>\n",
              "      <th>home_score</th>\n",
              "      <th>away_score</th>\n",
              "      <th>tournament</th>\n",
              "      <th>city</th>\n",
              "      <th>country</th>\n",
              "      <th>neutral</th>\n",
              "      <th>Year</th>\n",
              "      <th>Home_rank</th>\n",
              "      <th>Away_rank</th>\n",
              "    </tr>\n",
              "  </thead>\n",
              "  <tbody>\n",
              "    <tr>\n",
              "      <th>17361</th>\n",
              "      <td>1993-01-01</td>\n",
              "      <td>Ghana</td>\n",
              "      <td>Mali</td>\n",
              "      <td>1</td>\n",
              "      <td>1</td>\n",
              "      <td>54</td>\n",
              "      <td>Libreville</td>\n",
              "      <td>Gabon</td>\n",
              "      <td>True</td>\n",
              "      <td>1993</td>\n",
              "      <td>[48]</td>\n",
              "      <td>[74]</td>\n",
              "    </tr>\n",
              "    <tr>\n",
              "      <th>17362</th>\n",
              "      <td>1993-01-02</td>\n",
              "      <td>Gabon</td>\n",
              "      <td>Burkina Faso</td>\n",
              "      <td>1</td>\n",
              "      <td>1</td>\n",
              "      <td>54</td>\n",
              "      <td>Libreville</td>\n",
              "      <td>Gabon</td>\n",
              "      <td>False</td>\n",
              "      <td>1993</td>\n",
              "      <td>[64]</td>\n",
              "      <td>[113]</td>\n",
              "    </tr>\n",
              "    <tr>\n",
              "      <th>17363</th>\n",
              "      <td>1993-01-02</td>\n",
              "      <td>Kuwait</td>\n",
              "      <td>Lebanon</td>\n",
              "      <td>2</td>\n",
              "      <td>0</td>\n",
              "      <td>54</td>\n",
              "      <td>Kuwait City</td>\n",
              "      <td>Kuwait</td>\n",
              "      <td>False</td>\n",
              "      <td>1993</td>\n",
              "      <td>[60]</td>\n",
              "      <td>[108]</td>\n",
              "    </tr>\n",
              "    <tr>\n",
              "      <th>17364</th>\n",
              "      <td>1993-01-03</td>\n",
              "      <td>Burkina Faso</td>\n",
              "      <td>Mali</td>\n",
              "      <td>1</td>\n",
              "      <td>0</td>\n",
              "      <td>54</td>\n",
              "      <td>Libreville</td>\n",
              "      <td>Gabon</td>\n",
              "      <td>True</td>\n",
              "      <td>1993</td>\n",
              "      <td>[113]</td>\n",
              "      <td>[74]</td>\n",
              "    </tr>\n",
              "    <tr>\n",
              "      <th>17365</th>\n",
              "      <td>1993-01-03</td>\n",
              "      <td>Gabon</td>\n",
              "      <td>Ghana</td>\n",
              "      <td>2</td>\n",
              "      <td>3</td>\n",
              "      <td>54</td>\n",
              "      <td>Libreville</td>\n",
              "      <td>Gabon</td>\n",
              "      <td>False</td>\n",
              "      <td>1993</td>\n",
              "      <td>[64]</td>\n",
              "      <td>[48]</td>\n",
              "    </tr>\n",
              "    <tr>\n",
              "      <th>...</th>\n",
              "      <td>...</td>\n",
              "      <td>...</td>\n",
              "      <td>...</td>\n",
              "      <td>...</td>\n",
              "      <td>...</td>\n",
              "      <td>...</td>\n",
              "      <td>...</td>\n",
              "      <td>...</td>\n",
              "      <td>...</td>\n",
              "      <td>...</td>\n",
              "      <td>...</td>\n",
              "      <td>...</td>\n",
              "    </tr>\n",
              "    <tr>\n",
              "      <th>33767</th>\n",
              "      <td>2011-12-21</td>\n",
              "      <td>Chile</td>\n",
              "      <td>Paraguay</td>\n",
              "      <td>3</td>\n",
              "      <td>2</td>\n",
              "      <td>54</td>\n",
              "      <td>La Serena</td>\n",
              "      <td>Chile</td>\n",
              "      <td>False</td>\n",
              "      <td>2011</td>\n",
              "      <td>[15]</td>\n",
              "      <td>[24]</td>\n",
              "    </tr>\n",
              "    <tr>\n",
              "      <th>33768</th>\n",
              "      <td>2011-12-22</td>\n",
              "      <td>Angola</td>\n",
              "      <td>Namibia</td>\n",
              "      <td>0</td>\n",
              "      <td>0</td>\n",
              "      <td>54</td>\n",
              "      <td>Lubango</td>\n",
              "      <td>Angola</td>\n",
              "      <td>False</td>\n",
              "      <td>2011</td>\n",
              "      <td>[88]</td>\n",
              "      <td>[138]</td>\n",
              "    </tr>\n",
              "    <tr>\n",
              "      <th>33769</th>\n",
              "      <td>2011-12-22</td>\n",
              "      <td>Venezuela</td>\n",
              "      <td>Costa Rica</td>\n",
              "      <td>0</td>\n",
              "      <td>2</td>\n",
              "      <td>54</td>\n",
              "      <td>Barquisimeto</td>\n",
              "      <td>Venezuela</td>\n",
              "      <td>False</td>\n",
              "      <td>2011</td>\n",
              "      <td>[]</td>\n",
              "      <td>[69]</td>\n",
              "    </tr>\n",
              "    <tr>\n",
              "      <th>33770</th>\n",
              "      <td>2011-12-28</td>\n",
              "      <td>Basque Country</td>\n",
              "      <td>Tunisia</td>\n",
              "      <td>0</td>\n",
              "      <td>2</td>\n",
              "      <td>54</td>\n",
              "      <td>Bilbao</td>\n",
              "      <td>Spain</td>\n",
              "      <td>False</td>\n",
              "      <td>2011</td>\n",
              "      <td>[]</td>\n",
              "      <td>[44]</td>\n",
              "    </tr>\n",
              "    <tr>\n",
              "      <th>33771</th>\n",
              "      <td>2011-12-30</td>\n",
              "      <td>Catalonia</td>\n",
              "      <td>Tunisia</td>\n",
              "      <td>0</td>\n",
              "      <td>0</td>\n",
              "      <td>54</td>\n",
              "      <td>Barcelona</td>\n",
              "      <td>Spain</td>\n",
              "      <td>False</td>\n",
              "      <td>2011</td>\n",
              "      <td>[]</td>\n",
              "      <td>[44]</td>\n",
              "    </tr>\n",
              "  </tbody>\n",
              "</table>\n",
              "<p>16411 rows × 12 columns</p>\n",
              "</div>"
            ],
            "text/plain": [
              "            date       home_team     away_team  ...  Year  Home_rank  Away_rank\n",
              "17361 1993-01-01           Ghana          Mali  ...  1993       [48]       [74]\n",
              "17362 1993-01-02           Gabon  Burkina Faso  ...  1993       [64]      [113]\n",
              "17363 1993-01-02          Kuwait       Lebanon  ...  1993       [60]      [108]\n",
              "17364 1993-01-03    Burkina Faso          Mali  ...  1993      [113]       [74]\n",
              "17365 1993-01-03           Gabon         Ghana  ...  1993       [64]       [48]\n",
              "...          ...             ...           ...  ...   ...        ...        ...\n",
              "33767 2011-12-21           Chile      Paraguay  ...  2011       [15]       [24]\n",
              "33768 2011-12-22          Angola       Namibia  ...  2011       [88]      [138]\n",
              "33769 2011-12-22       Venezuela    Costa Rica  ...  2011         []       [69]\n",
              "33770 2011-12-28  Basque Country       Tunisia  ...  2011         []       [44]\n",
              "33771 2011-12-30       Catalonia       Tunisia  ...  2011         []       [44]\n",
              "\n",
              "[16411 rows x 12 columns]"
            ]
          },
          "metadata": {},
          "execution_count": 24
        }
      ]
    },
    {
      "cell_type": "code",
      "metadata": {
        "id": "R4gMxX6tbyEt"
      },
      "source": [
        "#Outputting the file \n",
        "fifa_results.to_csv('fifa_results.csv')"
      ],
      "execution_count": 54,
      "outputs": []
    },
    {
      "cell_type": "code",
      "metadata": {
        "id": "Ms0kB7vGcMkU"
      },
      "source": [
        "# Read the new cleaned dataset \n",
        "fifa_df = pd.read_csv('/content/fifa_results.csv')\n",
        "fifa_df['Home_rank']=fifa_df['Home_rank'].str.strip(\"[]\")\n",
        "fifa_df['Away_rank']=fifa_df['Away_rank'].str.strip(\"[]\")\n",
        "fifa_df['Home_rank']=fifa_df['Home_rank'].str.split(' ').str[0]\n",
        "fifa_df['Away_rank']=fifa_df['Away_rank'].str.split(' ').str[0]\n",
        "fifa_df['Home_rank']=fifa_df['Home_rank'].apply(pd.to_numeric)\n",
        "fifa_df['Away_rank']=fifa_df['Away_rank'].apply(pd.to_numeric)\n",
        "fifa_df.dropna(inplace=True)"
      ],
      "execution_count": 58,
      "outputs": []
    },
    {
      "cell_type": "code",
      "metadata": {
        "id": "711om1xU7-Q-"
      },
      "source": [
        "# Convert home rank and away rank to integer for use in the machine learning\n",
        "fifa_df['Home_rank']=fifa_df['Home_rank'].astype(int)\n",
        "fifa_df['Away_rank']=fifa_df['Away_rank'].astype(int)"
      ],
      "execution_count": 60,
      "outputs": []
    },
    {
      "cell_type": "code",
      "metadata": {
        "id": "CpxxeMv68Lu2"
      },
      "source": [
        "# add results D,W,L as per the match results\n",
        "#create status column for home perspective \n",
        "def status_col(home_score,away_score):\n",
        "    if home_score>away_score:\n",
        "        results = 'W'\n",
        "    elif home_score<away_score:\n",
        "        results = 'L'\n",
        "    else:\n",
        "        results = 'D'\n",
        "    return results\n",
        "fifa_df['Results'] = fifa_df.apply(lambda x: status_col(x['home_score'], x['away_score']), axis=1)"
      ],
      "execution_count": 62,
      "outputs": []
    },
    {
      "cell_type": "code",
      "metadata": {
        "colab": {
          "base_uri": "https://localhost:8080/"
        },
        "id": "hShsnbug8YVZ",
        "outputId": "93e21d8d-3e07-4c6b-f12b-704d15cc2865"
      },
      "source": [
        "#convert tournaments to categorial \n",
        "def convert_categorical_cols(data,col):\n",
        "    colum_values = list(data[col].unique())\n",
        "    dicts = {}\n",
        "    values = range(len(colum_values))\n",
        "    for i in range(len(colum_values)):\n",
        "        dicts[colum_values[i]] = values[i]\n",
        "        values = range(len(colum_values))\n",
        "    print(dicts)\n",
        "    data[col]=data[col].map(dicts)\n",
        "#The function takes the dataset and the column and create a dictionary that maps all unique \n",
        "# column values to numerical values for machine learning \n",
        "convert_categorical_cols(fifa_df,'tournament')"
      ],
      "execution_count": 63,
      "outputs": [
        {
          "output_type": "stream",
          "name": "stdout",
          "text": [
            "{54: 0, 8: 1, 52: 2, 77: 3, 71: 4, 66: 5, 98: 6, 38: 7, 67: 8, 20: 9, 19: 10, 100: 11, 27: 12, 68: 13, 14: 14, 56: 15, 10: 16, 101: 17, 70: 18, 7: 19, 51: 20, 82: 21, 96: 22, 58: 23, 89: 24, 18: 25, 26: 26, 48: 27, 87: 28, 90: 29, 81: 30, 107: 31, 2: 32, 69: 33, 95: 34, 5: 35, 1: 36, 65: 37, 45: 38, 47: 39, 25: 40, 91: 41, 92: 42, 57: 43, 99: 44, 79: 45, 105: 46, 73: 47, 85: 48, 88: 49, 49: 50, 3: 51, 93: 52, 4: 53, 9: 54, 102: 55, 46: 56, 78: 57, 76: 58, 83: 59, 0: 60}\n"
          ]
        }
      ]
    },
    {
      "cell_type": "code",
      "metadata": {
        "colab": {
          "base_uri": "https://localhost:8080/",
          "height": 310
        },
        "id": "p7shCHmR8fU8",
        "outputId": "43e13062-84c8-4d11-b752-6855c422bb0b"
      },
      "source": [
        "fifa_df.head()"
      ],
      "execution_count": 64,
      "outputs": [
        {
          "output_type": "execute_result",
          "data": {
            "text/html": [
              "<div>\n",
              "<style scoped>\n",
              "    .dataframe tbody tr th:only-of-type {\n",
              "        vertical-align: middle;\n",
              "    }\n",
              "\n",
              "    .dataframe tbody tr th {\n",
              "        vertical-align: top;\n",
              "    }\n",
              "\n",
              "    .dataframe thead th {\n",
              "        text-align: right;\n",
              "    }\n",
              "</style>\n",
              "<table border=\"1\" class=\"dataframe\">\n",
              "  <thead>\n",
              "    <tr style=\"text-align: right;\">\n",
              "      <th></th>\n",
              "      <th>Unnamed: 0</th>\n",
              "      <th>date</th>\n",
              "      <th>home_team</th>\n",
              "      <th>away_team</th>\n",
              "      <th>home_score</th>\n",
              "      <th>away_score</th>\n",
              "      <th>tournament</th>\n",
              "      <th>city</th>\n",
              "      <th>country</th>\n",
              "      <th>neutral</th>\n",
              "      <th>Year</th>\n",
              "      <th>Home_rank</th>\n",
              "      <th>Away_rank</th>\n",
              "      <th>Results</th>\n",
              "    </tr>\n",
              "  </thead>\n",
              "  <tbody>\n",
              "    <tr>\n",
              "      <th>0</th>\n",
              "      <td>17361</td>\n",
              "      <td>1993-01-01</td>\n",
              "      <td>Ghana</td>\n",
              "      <td>Mali</td>\n",
              "      <td>1</td>\n",
              "      <td>1</td>\n",
              "      <td>0</td>\n",
              "      <td>Libreville</td>\n",
              "      <td>Gabon</td>\n",
              "      <td>True</td>\n",
              "      <td>1993</td>\n",
              "      <td>48</td>\n",
              "      <td>74</td>\n",
              "      <td>D</td>\n",
              "    </tr>\n",
              "    <tr>\n",
              "      <th>1</th>\n",
              "      <td>17362</td>\n",
              "      <td>1993-01-02</td>\n",
              "      <td>Gabon</td>\n",
              "      <td>Burkina Faso</td>\n",
              "      <td>1</td>\n",
              "      <td>1</td>\n",
              "      <td>0</td>\n",
              "      <td>Libreville</td>\n",
              "      <td>Gabon</td>\n",
              "      <td>False</td>\n",
              "      <td>1993</td>\n",
              "      <td>64</td>\n",
              "      <td>113</td>\n",
              "      <td>D</td>\n",
              "    </tr>\n",
              "    <tr>\n",
              "      <th>2</th>\n",
              "      <td>17363</td>\n",
              "      <td>1993-01-02</td>\n",
              "      <td>Kuwait</td>\n",
              "      <td>Lebanon</td>\n",
              "      <td>2</td>\n",
              "      <td>0</td>\n",
              "      <td>0</td>\n",
              "      <td>Kuwait City</td>\n",
              "      <td>Kuwait</td>\n",
              "      <td>False</td>\n",
              "      <td>1993</td>\n",
              "      <td>60</td>\n",
              "      <td>108</td>\n",
              "      <td>W</td>\n",
              "    </tr>\n",
              "    <tr>\n",
              "      <th>3</th>\n",
              "      <td>17364</td>\n",
              "      <td>1993-01-03</td>\n",
              "      <td>Burkina Faso</td>\n",
              "      <td>Mali</td>\n",
              "      <td>1</td>\n",
              "      <td>0</td>\n",
              "      <td>0</td>\n",
              "      <td>Libreville</td>\n",
              "      <td>Gabon</td>\n",
              "      <td>True</td>\n",
              "      <td>1993</td>\n",
              "      <td>113</td>\n",
              "      <td>74</td>\n",
              "      <td>W</td>\n",
              "    </tr>\n",
              "    <tr>\n",
              "      <th>4</th>\n",
              "      <td>17365</td>\n",
              "      <td>1993-01-03</td>\n",
              "      <td>Gabon</td>\n",
              "      <td>Ghana</td>\n",
              "      <td>2</td>\n",
              "      <td>3</td>\n",
              "      <td>0</td>\n",
              "      <td>Libreville</td>\n",
              "      <td>Gabon</td>\n",
              "      <td>False</td>\n",
              "      <td>1993</td>\n",
              "      <td>64</td>\n",
              "      <td>48</td>\n",
              "      <td>L</td>\n",
              "    </tr>\n",
              "  </tbody>\n",
              "</table>\n",
              "</div>"
            ],
            "text/plain": [
              "   Unnamed: 0        date     home_team  ... Home_rank  Away_rank  Results\n",
              "0       17361  1993-01-01         Ghana  ...        48         74        D\n",
              "1       17362  1993-01-02         Gabon  ...        64        113        D\n",
              "2       17363  1993-01-02        Kuwait  ...        60        108        W\n",
              "3       17364  1993-01-03  Burkina Faso  ...       113         74        W\n",
              "4       17365  1993-01-03         Gabon  ...        64         48        L\n",
              "\n",
              "[5 rows x 14 columns]"
            ]
          },
          "metadata": {},
          "execution_count": 64
        }
      ]
    },
    {
      "cell_type": "markdown",
      "metadata": {
        "id": "pPV_F1k68tYA"
      },
      "source": [
        "**Exploratory Data Analysis**"
      ]
    },
    {
      "cell_type": "code",
      "metadata": {
        "colab": {
          "base_uri": "https://localhost:8080/",
          "height": 300
        },
        "id": "_P1XkBHh8m-6",
        "outputId": "4f6906ab-df11-4223-f30b-8502ad22b412"
      },
      "source": [
        "# Checking the correlations between numeric variables \n",
        "fifa_df.corr()\n",
        "\n",
        "#It shows that home score is negatively correlated to home rank. \n",
        "# This is because when a rank is high, the team perfemace is not good\n",
        "#same case for away rank and score."
      ],
      "execution_count": 65,
      "outputs": [
        {
          "output_type": "execute_result",
          "data": {
            "text/html": [
              "<div>\n",
              "<style scoped>\n",
              "    .dataframe tbody tr th:only-of-type {\n",
              "        vertical-align: middle;\n",
              "    }\n",
              "\n",
              "    .dataframe tbody tr th {\n",
              "        vertical-align: top;\n",
              "    }\n",
              "\n",
              "    .dataframe thead th {\n",
              "        text-align: right;\n",
              "    }\n",
              "</style>\n",
              "<table border=\"1\" class=\"dataframe\">\n",
              "  <thead>\n",
              "    <tr style=\"text-align: right;\">\n",
              "      <th></th>\n",
              "      <th>Unnamed: 0</th>\n",
              "      <th>home_score</th>\n",
              "      <th>away_score</th>\n",
              "      <th>tournament</th>\n",
              "      <th>neutral</th>\n",
              "      <th>Year</th>\n",
              "      <th>Home_rank</th>\n",
              "      <th>Away_rank</th>\n",
              "    </tr>\n",
              "  </thead>\n",
              "  <tbody>\n",
              "    <tr>\n",
              "      <th>Unnamed: 0</th>\n",
              "      <td>1.000000</td>\n",
              "      <td>-0.024469</td>\n",
              "      <td>-0.002109</td>\n",
              "      <td>0.057857</td>\n",
              "      <td>0.004807</td>\n",
              "      <td>0.997262</td>\n",
              "      <td>0.103169</td>\n",
              "      <td>0.098292</td>\n",
              "    </tr>\n",
              "    <tr>\n",
              "      <th>home_score</th>\n",
              "      <td>-0.024469</td>\n",
              "      <td>1.000000</td>\n",
              "      <td>-0.168970</td>\n",
              "      <td>0.016204</td>\n",
              "      <td>-0.044913</td>\n",
              "      <td>-0.023848</td>\n",
              "      <td>-0.128223</td>\n",
              "      <td>0.330245</td>\n",
              "    </tr>\n",
              "    <tr>\n",
              "      <th>away_score</th>\n",
              "      <td>-0.002109</td>\n",
              "      <td>-0.168970</td>\n",
              "      <td>1.000000</td>\n",
              "      <td>0.054955</td>\n",
              "      <td>0.103842</td>\n",
              "      <td>-0.003249</td>\n",
              "      <td>0.226234</td>\n",
              "      <td>-0.157027</td>\n",
              "    </tr>\n",
              "    <tr>\n",
              "      <th>tournament</th>\n",
              "      <td>0.057857</td>\n",
              "      <td>0.016204</td>\n",
              "      <td>0.054955</td>\n",
              "      <td>1.000000</td>\n",
              "      <td>0.334517</td>\n",
              "      <td>0.060110</td>\n",
              "      <td>0.114309</td>\n",
              "      <td>0.122939</td>\n",
              "    </tr>\n",
              "    <tr>\n",
              "      <th>neutral</th>\n",
              "      <td>0.004807</td>\n",
              "      <td>-0.044913</td>\n",
              "      <td>0.103842</td>\n",
              "      <td>0.334517</td>\n",
              "      <td>1.000000</td>\n",
              "      <td>0.008425</td>\n",
              "      <td>0.016880</td>\n",
              "      <td>0.026547</td>\n",
              "    </tr>\n",
              "    <tr>\n",
              "      <th>Year</th>\n",
              "      <td>0.997262</td>\n",
              "      <td>-0.023848</td>\n",
              "      <td>-0.003249</td>\n",
              "      <td>0.060110</td>\n",
              "      <td>0.008425</td>\n",
              "      <td>1.000000</td>\n",
              "      <td>0.105405</td>\n",
              "      <td>0.100438</td>\n",
              "    </tr>\n",
              "    <tr>\n",
              "      <th>Home_rank</th>\n",
              "      <td>0.103169</td>\n",
              "      <td>-0.128223</td>\n",
              "      <td>0.226234</td>\n",
              "      <td>0.114309</td>\n",
              "      <td>0.016880</td>\n",
              "      <td>0.105405</td>\n",
              "      <td>1.000000</td>\n",
              "      <td>0.444384</td>\n",
              "    </tr>\n",
              "    <tr>\n",
              "      <th>Away_rank</th>\n",
              "      <td>0.098292</td>\n",
              "      <td>0.330245</td>\n",
              "      <td>-0.157027</td>\n",
              "      <td>0.122939</td>\n",
              "      <td>0.026547</td>\n",
              "      <td>0.100438</td>\n",
              "      <td>0.444384</td>\n",
              "      <td>1.000000</td>\n",
              "    </tr>\n",
              "  </tbody>\n",
              "</table>\n",
              "</div>"
            ],
            "text/plain": [
              "            Unnamed: 0  home_score  away_score  ...      Year  Home_rank  Away_rank\n",
              "Unnamed: 0    1.000000   -0.024469   -0.002109  ...  0.997262   0.103169   0.098292\n",
              "home_score   -0.024469    1.000000   -0.168970  ... -0.023848  -0.128223   0.330245\n",
              "away_score   -0.002109   -0.168970    1.000000  ... -0.003249   0.226234  -0.157027\n",
              "tournament    0.057857    0.016204    0.054955  ...  0.060110   0.114309   0.122939\n",
              "neutral       0.004807   -0.044913    0.103842  ...  0.008425   0.016880   0.026547\n",
              "Year          0.997262   -0.023848   -0.003249  ...  1.000000   0.105405   0.100438\n",
              "Home_rank     0.103169   -0.128223    0.226234  ...  0.105405   1.000000   0.444384\n",
              "Away_rank     0.098292    0.330245   -0.157027  ...  0.100438   0.444384   1.000000\n",
              "\n",
              "[8 rows x 8 columns]"
            ]
          },
          "metadata": {},
          "execution_count": 65
        }
      ]
    },
    {
      "cell_type": "code",
      "metadata": {
        "colab": {
          "base_uri": "https://localhost:8080/",
          "height": 318
        },
        "id": "K9ecB2Qt87ac",
        "outputId": "fb03b82b-306f-4f35-ee1f-43ef945a0dff"
      },
      "source": [
        "#Plot a graph on the for wins losses and draws for home team\n",
        "#This shows that home teams win more than away team. Draws and losses seems to be balanced. \n",
        "fifa_df['Results'].value_counts().plot(kind='bar')\n",
        "plt.title(\"Wins, losses and draws for home team\")\n",
        "plt.xlabel(\"Home outcomes\",fontsize=15)\n",
        "plt.ylabel(\"COUNT\",fontsize=15)"
      ],
      "execution_count": 66,
      "outputs": [
        {
          "output_type": "execute_result",
          "data": {
            "text/plain": [
              "Text(0, 0.5, 'COUNT')"
            ]
          },
          "metadata": {},
          "execution_count": 66
        },
        {
          "output_type": "display_data",
          "data": {
            "image/png": "[encoded data removed]",
            "text/plain": [
              "<Figure size 432x288 with 1 Axes>"
            ]
          },
          "metadata": {
            "needs_background": "light"
          }
        }
      ]
    },
    {
      "cell_type": "markdown",
      "metadata": {
        "id": "kInw51L99Kwh"
      },
      "source": [
        "**Implementing the Solution**"
      ]
    },
    {
      "cell_type": "markdown",
      "metadata": {
        "id": "Hrvzbmgj9Qn3"
      },
      "source": [
        "**1. Using logistics regression**"
      ]
    },
    {
      "cell_type": "code",
      "metadata": {
        "colab": {
          "base_uri": "https://localhost:8080/"
        },
        "id": "D-JIv5MC9EXH",
        "outputId": "963deefc-1e2a-478c-b83e-a7b773b85f9e"
      },
      "source": [
        "#Logistic regression model \n",
        "X = fifa_df[['tournament','Home_rank','Away_rank']]\n",
        "y = fifa_df['Results']\n",
        "\n",
        "\n",
        "X_train, X_test, y_train, y_test = train_test_split(X, y, test_size=0.2, random_state=0)\n",
        "logmodel=LogisticRegression()\n",
        "logmodel.fit(X_train,y_train)"
      ],
      "execution_count": 67,
      "outputs": [
        {
          "output_type": "execute_result",
          "data": {
            "text/plain": [
              "LogisticRegression()"
            ]
          },
          "metadata": {},
          "execution_count": 67
        }
      ]
    },
    {
      "cell_type": "code",
      "metadata": {
        "id": "S28ZEiWj9Zm2"
      },
      "source": [
        "#making predictions \n",
        "predictions = logmodel.predict(X_test)"
      ],
      "execution_count": 68,
      "outputs": []
    },
    {
      "cell_type": "code",
      "metadata": {
        "colab": {
          "base_uri": "https://localhost:8080/"
        },
        "id": "srTC77wE9e5R",
        "outputId": "b152b77a-1f14-4d0e-8f32-a66bf2ed95d2"
      },
      "source": [
        "#checking  perfomance \n",
        "print(classification_report(y_test, predictions))\n",
        "print(confusion_matrix(y_test,predictions))\n",
        "print('###################################################################')\n",
        "print(print('Accuracy' , accuracy_score(y_test, predictions)))\n",
        "#The model has performed averagely 55% which is not soo good to help in predicting\n",
        "#For draws, the models was unable to predict any. Its mostly able to predict win or loss"
      ],
      "execution_count": 69,
      "outputs": [
        {
          "output_type": "stream",
          "name": "stdout",
          "text": [
            "              precision    recall  f1-score   support\n",
            "\n",
            "           D       0.00      0.00      0.00       573\n",
            "           L       0.53      0.55      0.54       710\n",
            "           W       0.57      0.85      0.68      1115\n",
            "\n",
            "    accuracy                           0.56      2398\n",
            "   macro avg       0.37      0.47      0.41      2398\n",
            "weighted avg       0.42      0.56      0.48      2398\n",
            "\n",
            "[[  0 179 394]\n",
            " [  0 389 321]\n",
            " [  0 164 951]]\n",
            "###################################################################\n",
            "Accuracy 0.5587989991659716\n",
            "None\n"
          ]
        },
        {
          "output_type": "stream",
          "name": "stderr",
          "text": [
            "/usr/local/lib/python3.7/dist-packages/sklearn/metrics/_classification.py:1308: UndefinedMetricWarning: Precision and F-score are ill-defined and being set to 0.0 in labels with no predicted samples. Use `zero_division` parameter to control this behavior.\n",
            "  _warn_prf(average, modifier, msg_start, len(result))\n",
            "/usr/local/lib/python3.7/dist-packages/sklearn/metrics/_classification.py:1308: UndefinedMetricWarning: Precision and F-score are ill-defined and being set to 0.0 in labels with no predicted samples. Use `zero_division` parameter to control this behavior.\n",
            "  _warn_prf(average, modifier, msg_start, len(result))\n",
            "/usr/local/lib/python3.7/dist-packages/sklearn/metrics/_classification.py:1308: UndefinedMetricWarning: Precision and F-score are ill-defined and being set to 0.0 in labels with no predicted samples. Use `zero_division` parameter to control this behavior.\n",
            "  _warn_prf(average, modifier, msg_start, len(result))\n"
          ]
        }
      ]
    },
    {
      "cell_type": "markdown",
      "metadata": {
        "id": "lq43qXEc-MlI"
      },
      "source": [
        "2. **Using Polynomial regression**"
      ]
    },
    {
      "cell_type": "code",
      "metadata": {
        "colab": {
          "base_uri": "https://localhost:8080/"
        },
        "id": "eux4vMhm-C2J",
        "outputId": "4dc4f201-8e47-4bfb-87b0-9df42d77d3cc"
      },
      "source": [
        "# Fit polynomial Regression to the dataset\n",
        " #With the degree of 1 its like linear\n",
        "poly_reg = PolynomialFeatures(degree = 2)\n",
        "X_poly = poly_reg.fit_transform(X)\n",
        "y"
      ],
      "execution_count": 70,
      "outputs": [
        {
          "output_type": "execute_result",
          "data": {
            "text/plain": [
              "0        D\n",
              "1        D\n",
              "2        W\n",
              "3        W\n",
              "4        L\n",
              "        ..\n",
              "16402    D\n",
              "16403    W\n",
              "16404    D\n",
              "16406    W\n",
              "16407    D\n",
              "Name: Results, Length: 11986, dtype: object"
            ]
          },
          "metadata": {},
          "execution_count": 70
        }
      ]
    },
    {
      "cell_type": "code",
      "metadata": {
        "colab": {
          "base_uri": "https://localhost:8080/",
          "height": 398
        },
        "id": "vEv6vWcj-eYQ",
        "outputId": "453248da-7981-43a4-c54c-a01bc1b93b65"
      },
      "source": [
        "from sklearn.linear_model import LinearRegression\n",
        "fifa_df['Results'] = fifa_df['Results'].astype('category')\n",
        "y = fifa_df['Results'] \n",
        "pol_reg = LinearRegression()\n",
        "pol_reg.fit(X_poly, y)\n",
        "\n",
        "#Visualize the Polynomial Regression results\n",
        "plt.scatter(X, y, color='blue') # You can put any color you like. This just helps us highlight the data points\n",
        "plt.plot(X, pol_reg.predict(X_poly), color='red')\n",
        "plt.title('fifa Prediction (Polynomial Regression)')\n",
        "plt.xlabel('Ranks')\n",
        "plt.ylabel('results')\n",
        "plt.show()\n",
        "\n",
        "# Since the results is categorical, polynomial regression cannot work in this model."
      ],
      "execution_count": 74,
      "outputs": [
        {
          "output_type": "error",
          "ename": "ValueError",
          "evalue": "ignored",
          "traceback": [
            "\u001b[0;31m---------------------------------------------------------------------------\u001b[0m",
            "\u001b[0;31mValueError\u001b[0m                                Traceback (most recent call last)",
            "\u001b[0;32m<ipython-input-74-b306530a01f7>\u001b[0m in \u001b[0;36m<module>\u001b[0;34m()\u001b[0m\n\u001b[1;32m      3\u001b[0m \u001b[0my\u001b[0m \u001b[0;34m=\u001b[0m \u001b[0mfifa_df\u001b[0m\u001b[0;34m[\u001b[0m\u001b[0;34m'Results'\u001b[0m\u001b[0;34m]\u001b[0m\u001b[0;34m\u001b[0m\u001b[0;34m\u001b[0m\u001b[0m\n\u001b[1;32m      4\u001b[0m \u001b[0mpol_reg\u001b[0m \u001b[0;34m=\u001b[0m \u001b[0mLinearRegression\u001b[0m\u001b[0;34m(\u001b[0m\u001b[0;34m)\u001b[0m\u001b[0;34m\u001b[0m\u001b[0;34m\u001b[0m\u001b[0m\n\u001b[0;32m----> 5\u001b[0;31m \u001b[0mpol_reg\u001b[0m\u001b[0;34m.\u001b[0m\u001b[0mfit\u001b[0m\u001b[0;34m(\u001b[0m\u001b[0mX_poly\u001b[0m\u001b[0;34m,\u001b[0m \u001b[0my\u001b[0m\u001b[0;34m)\u001b[0m\u001b[0;34m\u001b[0m\u001b[0;34m\u001b[0m\u001b[0m\n\u001b[0m\u001b[1;32m      6\u001b[0m \u001b[0;34m\u001b[0m\u001b[0m\n\u001b[1;32m      7\u001b[0m \u001b[0;31m#Visualize the Polynomial Regression results\u001b[0m\u001b[0;34m\u001b[0m\u001b[0;34m\u001b[0m\u001b[0;34m\u001b[0m\u001b[0m\n",
            "\u001b[0;32m/usr/local/lib/python3.7/dist-packages/sklearn/linear_model/_base.py\u001b[0m in \u001b[0;36mfit\u001b[0;34m(self, X, y, sample_weight)\u001b[0m\n\u001b[1;32m    661\u001b[0m \u001b[0;34m\u001b[0m\u001b[0m\n\u001b[1;32m    662\u001b[0m         X, y = self._validate_data(\n\u001b[0;32m--> 663\u001b[0;31m             \u001b[0mX\u001b[0m\u001b[0;34m,\u001b[0m \u001b[0my\u001b[0m\u001b[0;34m,\u001b[0m \u001b[0maccept_sparse\u001b[0m\u001b[0;34m=\u001b[0m\u001b[0maccept_sparse\u001b[0m\u001b[0;34m,\u001b[0m \u001b[0my_numeric\u001b[0m\u001b[0;34m=\u001b[0m\u001b[0;32mTrue\u001b[0m\u001b[0;34m,\u001b[0m \u001b[0mmulti_output\u001b[0m\u001b[0;34m=\u001b[0m\u001b[0;32mTrue\u001b[0m\u001b[0;34m\u001b[0m\u001b[0;34m\u001b[0m\u001b[0m\n\u001b[0m\u001b[1;32m    664\u001b[0m         )\n\u001b[1;32m    665\u001b[0m \u001b[0;34m\u001b[0m\u001b[0m\n",
            "\u001b[0;32m/usr/local/lib/python3.7/dist-packages/sklearn/base.py\u001b[0m in \u001b[0;36m_validate_data\u001b[0;34m(self, X, y, reset, validate_separately, **check_params)\u001b[0m\n\u001b[1;32m    574\u001b[0m                 \u001b[0my\u001b[0m \u001b[0;34m=\u001b[0m \u001b[0mcheck_array\u001b[0m\u001b[0;34m(\u001b[0m\u001b[0my\u001b[0m\u001b[0;34m,\u001b[0m \u001b[0;34m**\u001b[0m\u001b[0mcheck_y_params\u001b[0m\u001b[0;34m)\u001b[0m\u001b[0;34m\u001b[0m\u001b[0;34m\u001b[0m\u001b[0m\n\u001b[1;32m    575\u001b[0m             \u001b[0;32melse\u001b[0m\u001b[0;34m:\u001b[0m\u001b[0;34m\u001b[0m\u001b[0;34m\u001b[0m\u001b[0m\n\u001b[0;32m--> 576\u001b[0;31m                 \u001b[0mX\u001b[0m\u001b[0;34m,\u001b[0m \u001b[0my\u001b[0m \u001b[0;34m=\u001b[0m \u001b[0mcheck_X_y\u001b[0m\u001b[0;34m(\u001b[0m\u001b[0mX\u001b[0m\u001b[0;34m,\u001b[0m \u001b[0my\u001b[0m\u001b[0;34m,\u001b[0m \u001b[0;34m**\u001b[0m\u001b[0mcheck_params\u001b[0m\u001b[0;34m)\u001b[0m\u001b[0;34m\u001b[0m\u001b[0;34m\u001b[0m\u001b[0m\n\u001b[0m\u001b[1;32m    577\u001b[0m             \u001b[0mout\u001b[0m \u001b[0;34m=\u001b[0m \u001b[0mX\u001b[0m\u001b[0;34m,\u001b[0m \u001b[0my\u001b[0m\u001b[0;34m\u001b[0m\u001b[0;34m\u001b[0m\u001b[0m\n\u001b[1;32m    578\u001b[0m \u001b[0;34m\u001b[0m\u001b[0m\n",
            "\u001b[0;32m/usr/local/lib/python3.7/dist-packages/sklearn/utils/validation.py\u001b[0m in \u001b[0;36mcheck_X_y\u001b[0;34m(X, y, accept_sparse, accept_large_sparse, dtype, order, copy, force_all_finite, ensure_2d, allow_nd, multi_output, ensure_min_samples, ensure_min_features, y_numeric, estimator)\u001b[0m\n\u001b[1;32m    969\u001b[0m     )\n\u001b[1;32m    970\u001b[0m \u001b[0;34m\u001b[0m\u001b[0m\n\u001b[0;32m--> 971\u001b[0;31m     \u001b[0my\u001b[0m \u001b[0;34m=\u001b[0m \u001b[0m_check_y\u001b[0m\u001b[0;34m(\u001b[0m\u001b[0my\u001b[0m\u001b[0;34m,\u001b[0m \u001b[0mmulti_output\u001b[0m\u001b[0;34m=\u001b[0m\u001b[0mmulti_output\u001b[0m\u001b[0;34m,\u001b[0m \u001b[0my_numeric\u001b[0m\u001b[0;34m=\u001b[0m\u001b[0my_numeric\u001b[0m\u001b[0;34m)\u001b[0m\u001b[0;34m\u001b[0m\u001b[0;34m\u001b[0m\u001b[0m\n\u001b[0m\u001b[1;32m    972\u001b[0m \u001b[0;34m\u001b[0m\u001b[0m\n\u001b[1;32m    973\u001b[0m     \u001b[0mcheck_consistent_length\u001b[0m\u001b[0;34m(\u001b[0m\u001b[0mX\u001b[0m\u001b[0;34m,\u001b[0m \u001b[0my\u001b[0m\u001b[0;34m)\u001b[0m\u001b[0;34m\u001b[0m\u001b[0;34m\u001b[0m\u001b[0m\n",
            "\u001b[0;32m/usr/local/lib/python3.7/dist-packages/sklearn/utils/validation.py\u001b[0m in \u001b[0;36m_check_y\u001b[0;34m(y, multi_output, y_numeric)\u001b[0m\n\u001b[1;32m    987\u001b[0m         \u001b[0m_ensure_no_complex_data\u001b[0m\u001b[0;34m(\u001b[0m\u001b[0my\u001b[0m\u001b[0;34m)\u001b[0m\u001b[0;34m\u001b[0m\u001b[0;34m\u001b[0m\u001b[0m\n\u001b[1;32m    988\u001b[0m     \u001b[0;32mif\u001b[0m \u001b[0my_numeric\u001b[0m \u001b[0;32mand\u001b[0m \u001b[0my\u001b[0m\u001b[0;34m.\u001b[0m\u001b[0mdtype\u001b[0m\u001b[0;34m.\u001b[0m\u001b[0mkind\u001b[0m \u001b[0;34m==\u001b[0m \u001b[0;34m\"O\"\u001b[0m\u001b[0;34m:\u001b[0m\u001b[0;34m\u001b[0m\u001b[0;34m\u001b[0m\u001b[0m\n\u001b[0;32m--> 989\u001b[0;31m         \u001b[0my\u001b[0m \u001b[0;34m=\u001b[0m \u001b[0my\u001b[0m\u001b[0;34m.\u001b[0m\u001b[0mastype\u001b[0m\u001b[0;34m(\u001b[0m\u001b[0mnp\u001b[0m\u001b[0;34m.\u001b[0m\u001b[0mfloat64\u001b[0m\u001b[0;34m)\u001b[0m\u001b[0;34m\u001b[0m\u001b[0;34m\u001b[0m\u001b[0m\n\u001b[0m\u001b[1;32m    990\u001b[0m \u001b[0;34m\u001b[0m\u001b[0m\n\u001b[1;32m    991\u001b[0m     \u001b[0;32mreturn\u001b[0m \u001b[0my\u001b[0m\u001b[0;34m\u001b[0m\u001b[0;34m\u001b[0m\u001b[0m\n",
            "\u001b[0;31mValueError\u001b[0m: could not convert string to float: 'D'"
          ]
        }
      ]
    },
    {
      "cell_type": "markdown",
      "metadata": {
        "id": "fD80xxTKASLV"
      },
      "source": [
        "**Challenging the solution**\n",
        "\n",
        "Our model might not be able to give correct predition given the surprising perfomance of football teams. Some teams that are highly ranked are beaten hence a winners turns to be a loss"
      ]
    },
    {
      "cell_type": "markdown",
      "metadata": {
        "id": "DAWH4T5eAbnZ"
      },
      "source": [
        "**Follow up questions**\n",
        "\n",
        "At this point, we can refine our question or collect new data, all in an iterative process to get at the truth.\n",
        "\n",
        "a). **Did we have the right data?**\n",
        "\n",
        "Yes. Data given was well and enough to create a model\n",
        "\n",
        "b). **Do we need other data to answer our question?**\n",
        "\n",
        "No\n",
        "\n",
        "c).**Did we have the right question?**\n",
        "\n",
        "The question is well framed. Many companies need such questiona nd models to help gamblers predict the outcomes of games. Betting companies also need such models to know the odds to place on their games to avoid losses in betting"
      ]
    }
  ]
}