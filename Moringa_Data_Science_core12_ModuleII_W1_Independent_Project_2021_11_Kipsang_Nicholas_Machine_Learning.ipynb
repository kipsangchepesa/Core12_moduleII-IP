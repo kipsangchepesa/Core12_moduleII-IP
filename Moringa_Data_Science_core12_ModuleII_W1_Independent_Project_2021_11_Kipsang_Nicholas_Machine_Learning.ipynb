{
  "nbformat": 4,
  "nbformat_minor": 0,
  "metadata": {
    "colab": {
      "name": "Moringa_Data_Science_core12_ModuleII_W1_Independent_Project_2021_11_Kipsang_Nicholas_Machine_Learning.ipynb",
      "provenance": [],
      "authorship_tag": "ABX9TyNjyAruK6ks0Pbrq7v2bWLx",
      "include_colab_link": true
    },
    "kernelspec": {
      "name": "python3",
      "display_name": "Python 3"
    },
    "language_info": {
      "name": "python"
    }
  },
  "cells": [
    {
      "cell_type": "markdown",
      "metadata": {
        "id": "view-in-github",
        "colab_type": "text"
      },
      "source": [
        "<a href=\"https://colab.research.google.com/github/kipsangchepesa/Core12_moduleII-IP/blob/main/Moringa_Data_Science_core12_ModuleII_W1_Independent_Project_2021_11_Kipsang_Nicholas_Machine_Learning.ipynb\" target=\"_parent\"><img src=\"https://colab.research.google.com/assets/colab-badge.svg\" alt=\"Open In Colab\"/></a>"
      ]
    },
    {
      "cell_type": "markdown",
      "metadata": {
        "id": "D2R3tq-9g-uQ"
      },
      "source": [
        "# **Defining the question.**\n",
        "#a). Specific question\n",
        "Being a football analyst in Mchezopesa Ltd and tasked to predict result of a game between team 1 and team 2, based on who's home and who's away, and on whether or not the game is friendly (by including rank in training dataset).\n",
        "\n"
      ]
    },
    {
      "cell_type": "markdown",
      "metadata": {
        "id": "rBMgwhHaiGP9"
      },
      "source": [
        "#b). Metrics of success\n",
        "\n",
        " How many goals the home team scores?\n",
        "\n",
        " How many goals the away team scores?\n"
      ]
    },
    {
      "cell_type": "markdown",
      "metadata": {
        "id": "jfG7wGkOmWQg"
      },
      "source": [
        "**c).Understanding the context**\n",
        "\n",
        "FIFA introduced football ranking in 1993 to display teams ranking as per the games played, wins, loses, drawa and previous points. The rank is done by accumulative points. Every time a team plays, its ranking changes. Ranking is done periodilcally.\n",
        "\n",
        "In many cases, a team that plays another team that has higher rank is likely to win the match"
      ]
    },
    {
      "cell_type": "markdown",
      "metadata": {
        "id": "GJFmZijjSYuL"
      },
      "source": [
        "**d) Recording the Experimental Design**\n",
        "\n",
        "This project will be understake by doing a logistic regresions. I will train a model using tournament type, home team, away teamand Fifa ranking on the results which is win, draw or lose. Fifa ranking changes per year hence when feeding the model for prediting will have the year which will determin the team's ranking that year"
      ]
    },
    {
      "cell_type": "markdown",
      "metadata": {
        "id": "oKMeZokbSgYk"
      },
      "source": [
        "**e) Data Relevance**\n",
        "\n",
        "We have two data sets to work with\n",
        "\n",
        "1. The Fifa ranking dataset which shows ranking for each team periodically. We will comeupe with a new dataset from this that displays the ranking per team per year\n",
        "\n",
        "2.,. Fifa resuls: This shows each game results whenever the teams play. It has the date, teams, tournament type, and score. With this we will append results(W,D,L) and official Fifa ranking that year depending on the year they have played"
      ]
    },
    {
      "cell_type": "markdown",
      "metadata": {
        "id": "bvTxrHSXZTrS"
      },
      "source": [
        "##1. Importing the libraries"
      ]
    },
    {
      "cell_type": "code",
      "metadata": {
        "id": "KrRAiideXiIZ"
      },
      "source": [
        "#importing the libraries\n",
        "import pandas as pd \n",
        "import seaborn as sns\n",
        "from sklearn.model_selection import train_test_split\n",
        "from sklearn.linear_model import LogisticRegression\n",
        "from sklearn.metrics import confusion_matrix, classification_report, accuracy_score\n",
        "import matplotlib.pyplot as plt\n",
        "from sklearn.preprocessing import PolynomialFeatures"
      ],
      "execution_count": 1,
      "outputs": []
    },
    {
      "cell_type": "markdown",
      "metadata": {
        "id": "0hp_gyR0adUn"
      },
      "source": [
        "##2. Loading the dataset"
      ]
    },
    {
      "cell_type": "code",
      "metadata": {
        "id": "-lw0C8pYZpC-"
      },
      "source": [
        "#loading the dataset \n",
        "fifa_ranking = pd.read_csv('/content/fifa_ranking.csv')\n",
        "fifa_results=pd.read_csv('/content/results.csv')"
      ],
      "execution_count": 3,
      "outputs": []
    },
    {
      "cell_type": "code",
      "metadata": {
        "colab": {
          "base_uri": "https://localhost:8080/"
        },
        "id": "NMDtcix4T2ql",
        "outputId": "e97adcc2-ccdf-4717-a6ba-300e00277416"
      },
      "source": [
        "# Determining the no. of records in our dataset\n",
        "fifa_ranking.shape"
      ],
      "execution_count": 4,
      "outputs": [
        {
          "output_type": "execute_result",
          "data": {
            "text/plain": [
              "(57793, 16)"
            ]
          },
          "metadata": {},
          "execution_count": 4
        }
      ]
    },
    {
      "cell_type": "code",
      "metadata": {
        "colab": {
          "base_uri": "https://localhost:8080/"
        },
        "id": "z0J2298yUGGj",
        "outputId": "d593a5f9-d4a7-4fe7-cfe6-0dcdd7ef7412"
      },
      "source": [
        "fifa_results.shape"
      ],
      "execution_count": 5,
      "outputs": [
        {
          "output_type": "execute_result",
          "data": {
            "text/plain": [
              "(40839, 9)"
            ]
          },
          "metadata": {},
          "execution_count": 5
        }
      ]
    },
    {
      "cell_type": "code",
      "metadata": {
        "colab": {
          "base_uri": "https://localhost:8080/",
          "height": 206
        },
        "id": "dCjc9lx-UKYY",
        "outputId": "2581e63f-53f0-4f9f-88c3-8c0b0ccb26a7"
      },
      "source": [
        "# Previewing the top of our dataset\n",
        "fifa_results.head()"
      ],
      "execution_count": 6,
      "outputs": [
        {
          "output_type": "execute_result",
          "data": {
            "text/html": [
              "<div>\n",
              "<style scoped>\n",
              "    .dataframe tbody tr th:only-of-type {\n",
              "        vertical-align: middle;\n",
              "    }\n",
              "\n",
              "    .dataframe tbody tr th {\n",
              "        vertical-align: top;\n",
              "    }\n",
              "\n",
              "    .dataframe thead th {\n",
              "        text-align: right;\n",
              "    }\n",
              "</style>\n",
              "<table border=\"1\" class=\"dataframe\">\n",
              "  <thead>\n",
              "    <tr style=\"text-align: right;\">\n",
              "      <th></th>\n",
              "      <th>date</th>\n",
              "      <th>home_team</th>\n",
              "      <th>away_team</th>\n",
              "      <th>home_score</th>\n",
              "      <th>away_score</th>\n",
              "      <th>tournament</th>\n",
              "      <th>city</th>\n",
              "      <th>country</th>\n",
              "      <th>neutral</th>\n",
              "    </tr>\n",
              "  </thead>\n",
              "  <tbody>\n",
              "    <tr>\n",
              "      <th>0</th>\n",
              "      <td>1872-11-30</td>\n",
              "      <td>Scotland</td>\n",
              "      <td>England</td>\n",
              "      <td>0</td>\n",
              "      <td>0</td>\n",
              "      <td>Friendly</td>\n",
              "      <td>Glasgow</td>\n",
              "      <td>Scotland</td>\n",
              "      <td>False</td>\n",
              "    </tr>\n",
              "    <tr>\n",
              "      <th>1</th>\n",
              "      <td>1873-03-08</td>\n",
              "      <td>England</td>\n",
              "      <td>Scotland</td>\n",
              "      <td>4</td>\n",
              "      <td>2</td>\n",
              "      <td>Friendly</td>\n",
              "      <td>London</td>\n",
              "      <td>England</td>\n",
              "      <td>False</td>\n",
              "    </tr>\n",
              "    <tr>\n",
              "      <th>2</th>\n",
              "      <td>1874-03-07</td>\n",
              "      <td>Scotland</td>\n",
              "      <td>England</td>\n",
              "      <td>2</td>\n",
              "      <td>1</td>\n",
              "      <td>Friendly</td>\n",
              "      <td>Glasgow</td>\n",
              "      <td>Scotland</td>\n",
              "      <td>False</td>\n",
              "    </tr>\n",
              "    <tr>\n",
              "      <th>3</th>\n",
              "      <td>1875-03-06</td>\n",
              "      <td>England</td>\n",
              "      <td>Scotland</td>\n",
              "      <td>2</td>\n",
              "      <td>2</td>\n",
              "      <td>Friendly</td>\n",
              "      <td>London</td>\n",
              "      <td>England</td>\n",
              "      <td>False</td>\n",
              "    </tr>\n",
              "    <tr>\n",
              "      <th>4</th>\n",
              "      <td>1876-03-04</td>\n",
              "      <td>Scotland</td>\n",
              "      <td>England</td>\n",
              "      <td>3</td>\n",
              "      <td>0</td>\n",
              "      <td>Friendly</td>\n",
              "      <td>Glasgow</td>\n",
              "      <td>Scotland</td>\n",
              "      <td>False</td>\n",
              "    </tr>\n",
              "  </tbody>\n",
              "</table>\n",
              "</div>"
            ],
            "text/plain": [
              "         date home_team away_team  ...     city   country neutral\n",
              "0  1872-11-30  Scotland   England  ...  Glasgow  Scotland   False\n",
              "1  1873-03-08   England  Scotland  ...   London   England   False\n",
              "2  1874-03-07  Scotland   England  ...  Glasgow  Scotland   False\n",
              "3  1875-03-06   England  Scotland  ...   London   England   False\n",
              "4  1876-03-04  Scotland   England  ...  Glasgow  Scotland   False\n",
              "\n",
              "[5 rows x 9 columns]"
            ]
          },
          "metadata": {},
          "execution_count": 6
        }
      ]
    },
    {
      "cell_type": "code",
      "metadata": {
        "colab": {
          "base_uri": "https://localhost:8080/",
          "height": 206
        },
        "id": "wMX42JgzUTMP",
        "outputId": "f5854087-6a4f-4881-a924-4eaaa3875e67"
      },
      "source": [
        "# Importing label encoder\n",
        "# \n",
        "from sklearn.preprocessing import LabelEncoder\n",
        "categorical_features = ['tournament']\n",
        "le = LabelEncoder()\n",
        "\n",
        "# Converting the variables to numerical\n",
        "#\n",
        "for i in range(1):\n",
        "    new = le.fit_transform(fifa_results[categorical_features[i]])\n",
        "    fifa_results[categorical_features[i]] = new\n",
        "    \n",
        "fifa_results.head()"
      ],
      "execution_count": 7,
      "outputs": [
        {
          "output_type": "execute_result",
          "data": {
            "text/html": [
              "<div>\n",
              "<style scoped>\n",
              "    .dataframe tbody tr th:only-of-type {\n",
              "        vertical-align: middle;\n",
              "    }\n",
              "\n",
              "    .dataframe tbody tr th {\n",
              "        vertical-align: top;\n",
              "    }\n",
              "\n",
              "    .dataframe thead th {\n",
              "        text-align: right;\n",
              "    }\n",
              "</style>\n",
              "<table border=\"1\" class=\"dataframe\">\n",
              "  <thead>\n",
              "    <tr style=\"text-align: right;\">\n",
              "      <th></th>\n",
              "      <th>date</th>\n",
              "      <th>home_team</th>\n",
              "      <th>away_team</th>\n",
              "      <th>home_score</th>\n",
              "      <th>away_score</th>\n",
              "      <th>tournament</th>\n",
              "      <th>city</th>\n",
              "      <th>country</th>\n",
              "      <th>neutral</th>\n",
              "    </tr>\n",
              "  </thead>\n",
              "  <tbody>\n",
              "    <tr>\n",
              "      <th>0</th>\n",
              "      <td>1872-11-30</td>\n",
              "      <td>Scotland</td>\n",
              "      <td>England</td>\n",
              "      <td>0</td>\n",
              "      <td>0</td>\n",
              "      <td>54</td>\n",
              "      <td>Glasgow</td>\n",
              "      <td>Scotland</td>\n",
              "      <td>False</td>\n",
              "    </tr>\n",
              "    <tr>\n",
              "      <th>1</th>\n",
              "      <td>1873-03-08</td>\n",
              "      <td>England</td>\n",
              "      <td>Scotland</td>\n",
              "      <td>4</td>\n",
              "      <td>2</td>\n",
              "      <td>54</td>\n",
              "      <td>London</td>\n",
              "      <td>England</td>\n",
              "      <td>False</td>\n",
              "    </tr>\n",
              "    <tr>\n",
              "      <th>2</th>\n",
              "      <td>1874-03-07</td>\n",
              "      <td>Scotland</td>\n",
              "      <td>England</td>\n",
              "      <td>2</td>\n",
              "      <td>1</td>\n",
              "      <td>54</td>\n",
              "      <td>Glasgow</td>\n",
              "      <td>Scotland</td>\n",
              "      <td>False</td>\n",
              "    </tr>\n",
              "    <tr>\n",
              "      <th>3</th>\n",
              "      <td>1875-03-06</td>\n",
              "      <td>England</td>\n",
              "      <td>Scotland</td>\n",
              "      <td>2</td>\n",
              "      <td>2</td>\n",
              "      <td>54</td>\n",
              "      <td>London</td>\n",
              "      <td>England</td>\n",
              "      <td>False</td>\n",
              "    </tr>\n",
              "    <tr>\n",
              "      <th>4</th>\n",
              "      <td>1876-03-04</td>\n",
              "      <td>Scotland</td>\n",
              "      <td>England</td>\n",
              "      <td>3</td>\n",
              "      <td>0</td>\n",
              "      <td>54</td>\n",
              "      <td>Glasgow</td>\n",
              "      <td>Scotland</td>\n",
              "      <td>False</td>\n",
              "    </tr>\n",
              "  </tbody>\n",
              "</table>\n",
              "</div>"
            ],
            "text/plain": [
              "         date home_team away_team  ...     city   country  neutral\n",
              "0  1872-11-30  Scotland   England  ...  Glasgow  Scotland    False\n",
              "1  1873-03-08   England  Scotland  ...   London   England    False\n",
              "2  1874-03-07  Scotland   England  ...  Glasgow  Scotland    False\n",
              "3  1875-03-06   England  Scotland  ...   London   England    False\n",
              "4  1876-03-04  Scotland   England  ...  Glasgow  Scotland    False\n",
              "\n",
              "[5 rows x 9 columns]"
            ]
          },
          "metadata": {},
          "execution_count": 7
        }
      ]
    },
    {
      "cell_type": "code",
      "metadata": {
        "colab": {
          "base_uri": "https://localhost:8080/",
          "height": 313
        },
        "id": "IklRgMBkUd1r",
        "outputId": "a58ad6f5-8df6-4c2f-bc1b-a1a096ccbd61"
      },
      "source": [
        "# Previewing the bottom of our dataset\n",
        "fifa_ranking.head()\n",
        "# Importing label encoder\n",
        "# \n",
        "from sklearn.preprocessing import LabelEncoder\n",
        "categorical_features = ['tournament']\n",
        "le = LabelEncoder()\n",
        "\n",
        "# Converting the variables to numerical\n",
        "#\n",
        "\n",
        "new = le.fit_transform(fifa_ranking['confederation'])\n",
        "fifa_ranking['confederation'] = new\n",
        "    \n",
        "fifa_ranking.head()"
      ],
      "execution_count": 8,
      "outputs": [
        {
          "output_type": "execute_result",
          "data": {
            "text/html": [
              "<div>\n",
              "<style scoped>\n",
              "    .dataframe tbody tr th:only-of-type {\n",
              "        vertical-align: middle;\n",
              "    }\n",
              "\n",
              "    .dataframe tbody tr th {\n",
              "        vertical-align: top;\n",
              "    }\n",
              "\n",
              "    .dataframe thead th {\n",
              "        text-align: right;\n",
              "    }\n",
              "</style>\n",
              "<table border=\"1\" class=\"dataframe\">\n",
              "  <thead>\n",
              "    <tr style=\"text-align: right;\">\n",
              "      <th></th>\n",
              "      <th>rank</th>\n",
              "      <th>country_full</th>\n",
              "      <th>country_abrv</th>\n",
              "      <th>total_points</th>\n",
              "      <th>previous_points</th>\n",
              "      <th>rank_change</th>\n",
              "      <th>cur_year_avg</th>\n",
              "      <th>cur_year_avg_weighted</th>\n",
              "      <th>last_year_avg</th>\n",
              "      <th>last_year_avg_weighted</th>\n",
              "      <th>two_year_ago_avg</th>\n",
              "      <th>two_year_ago_weighted</th>\n",
              "      <th>three_year_ago_avg</th>\n",
              "      <th>three_year_ago_weighted</th>\n",
              "      <th>confederation</th>\n",
              "      <th>rank_date</th>\n",
              "    </tr>\n",
              "  </thead>\n",
              "  <tbody>\n",
              "    <tr>\n",
              "      <th>0</th>\n",
              "      <td>1</td>\n",
              "      <td>Germany</td>\n",
              "      <td>GER</td>\n",
              "      <td>0.0</td>\n",
              "      <td>57</td>\n",
              "      <td>0</td>\n",
              "      <td>0.0</td>\n",
              "      <td>0.0</td>\n",
              "      <td>0.0</td>\n",
              "      <td>0.0</td>\n",
              "      <td>0.0</td>\n",
              "      <td>0.0</td>\n",
              "      <td>0.0</td>\n",
              "      <td>0.0</td>\n",
              "      <td>5</td>\n",
              "      <td>1993-08-08</td>\n",
              "    </tr>\n",
              "    <tr>\n",
              "      <th>1</th>\n",
              "      <td>2</td>\n",
              "      <td>Italy</td>\n",
              "      <td>ITA</td>\n",
              "      <td>0.0</td>\n",
              "      <td>57</td>\n",
              "      <td>0</td>\n",
              "      <td>0.0</td>\n",
              "      <td>0.0</td>\n",
              "      <td>0.0</td>\n",
              "      <td>0.0</td>\n",
              "      <td>0.0</td>\n",
              "      <td>0.0</td>\n",
              "      <td>0.0</td>\n",
              "      <td>0.0</td>\n",
              "      <td>5</td>\n",
              "      <td>1993-08-08</td>\n",
              "    </tr>\n",
              "    <tr>\n",
              "      <th>2</th>\n",
              "      <td>3</td>\n",
              "      <td>Switzerland</td>\n",
              "      <td>SUI</td>\n",
              "      <td>0.0</td>\n",
              "      <td>50</td>\n",
              "      <td>9</td>\n",
              "      <td>0.0</td>\n",
              "      <td>0.0</td>\n",
              "      <td>0.0</td>\n",
              "      <td>0.0</td>\n",
              "      <td>0.0</td>\n",
              "      <td>0.0</td>\n",
              "      <td>0.0</td>\n",
              "      <td>0.0</td>\n",
              "      <td>5</td>\n",
              "      <td>1993-08-08</td>\n",
              "    </tr>\n",
              "    <tr>\n",
              "      <th>3</th>\n",
              "      <td>4</td>\n",
              "      <td>Sweden</td>\n",
              "      <td>SWE</td>\n",
              "      <td>0.0</td>\n",
              "      <td>55</td>\n",
              "      <td>0</td>\n",
              "      <td>0.0</td>\n",
              "      <td>0.0</td>\n",
              "      <td>0.0</td>\n",
              "      <td>0.0</td>\n",
              "      <td>0.0</td>\n",
              "      <td>0.0</td>\n",
              "      <td>0.0</td>\n",
              "      <td>0.0</td>\n",
              "      <td>5</td>\n",
              "      <td>1993-08-08</td>\n",
              "    </tr>\n",
              "    <tr>\n",
              "      <th>4</th>\n",
              "      <td>5</td>\n",
              "      <td>Argentina</td>\n",
              "      <td>ARG</td>\n",
              "      <td>0.0</td>\n",
              "      <td>51</td>\n",
              "      <td>5</td>\n",
              "      <td>0.0</td>\n",
              "      <td>0.0</td>\n",
              "      <td>0.0</td>\n",
              "      <td>0.0</td>\n",
              "      <td>0.0</td>\n",
              "      <td>0.0</td>\n",
              "      <td>0.0</td>\n",
              "      <td>0.0</td>\n",
              "      <td>3</td>\n",
              "      <td>1993-08-08</td>\n",
              "    </tr>\n",
              "  </tbody>\n",
              "</table>\n",
              "</div>"
            ],
            "text/plain": [
              "   rank country_full  ... confederation   rank_date\n",
              "0     1      Germany  ...             5  1993-08-08\n",
              "1     2        Italy  ...             5  1993-08-08\n",
              "2     3  Switzerland  ...             5  1993-08-08\n",
              "3     4       Sweden  ...             5  1993-08-08\n",
              "4     5    Argentina  ...             3  1993-08-08\n",
              "\n",
              "[5 rows x 16 columns]"
            ]
          },
          "metadata": {},
          "execution_count": 8
        }
      ]
    },
    {
      "cell_type": "code",
      "metadata": {
        "colab": {
          "base_uri": "https://localhost:8080/",
          "height": 313
        },
        "id": "E6rGPi5NUjli",
        "outputId": "6201cec5-4e9c-4ac1-845e-344b01730a30"
      },
      "source": [
        "fifa_ranking.head()"
      ],
      "execution_count": 9,
      "outputs": [
        {
          "output_type": "execute_result",
          "data": {
            "text/html": [
              "<div>\n",
              "<style scoped>\n",
              "    .dataframe tbody tr th:only-of-type {\n",
              "        vertical-align: middle;\n",
              "    }\n",
              "\n",
              "    .dataframe tbody tr th {\n",
              "        vertical-align: top;\n",
              "    }\n",
              "\n",
              "    .dataframe thead th {\n",
              "        text-align: right;\n",
              "    }\n",
              "</style>\n",
              "<table border=\"1\" class=\"dataframe\">\n",
              "  <thead>\n",
              "    <tr style=\"text-align: right;\">\n",
              "      <th></th>\n",
              "      <th>rank</th>\n",
              "      <th>country_full</th>\n",
              "      <th>country_abrv</th>\n",
              "      <th>total_points</th>\n",
              "      <th>previous_points</th>\n",
              "      <th>rank_change</th>\n",
              "      <th>cur_year_avg</th>\n",
              "      <th>cur_year_avg_weighted</th>\n",
              "      <th>last_year_avg</th>\n",
              "      <th>last_year_avg_weighted</th>\n",
              "      <th>two_year_ago_avg</th>\n",
              "      <th>two_year_ago_weighted</th>\n",
              "      <th>three_year_ago_avg</th>\n",
              "      <th>three_year_ago_weighted</th>\n",
              "      <th>confederation</th>\n",
              "      <th>rank_date</th>\n",
              "    </tr>\n",
              "  </thead>\n",
              "  <tbody>\n",
              "    <tr>\n",
              "      <th>0</th>\n",
              "      <td>1</td>\n",
              "      <td>Germany</td>\n",
              "      <td>GER</td>\n",
              "      <td>0.0</td>\n",
              "      <td>57</td>\n",
              "      <td>0</td>\n",
              "      <td>0.0</td>\n",
              "      <td>0.0</td>\n",
              "      <td>0.0</td>\n",
              "      <td>0.0</td>\n",
              "      <td>0.0</td>\n",
              "      <td>0.0</td>\n",
              "      <td>0.0</td>\n",
              "      <td>0.0</td>\n",
              "      <td>5</td>\n",
              "      <td>1993-08-08</td>\n",
              "    </tr>\n",
              "    <tr>\n",
              "      <th>1</th>\n",
              "      <td>2</td>\n",
              "      <td>Italy</td>\n",
              "      <td>ITA</td>\n",
              "      <td>0.0</td>\n",
              "      <td>57</td>\n",
              "      <td>0</td>\n",
              "      <td>0.0</td>\n",
              "      <td>0.0</td>\n",
              "      <td>0.0</td>\n",
              "      <td>0.0</td>\n",
              "      <td>0.0</td>\n",
              "      <td>0.0</td>\n",
              "      <td>0.0</td>\n",
              "      <td>0.0</td>\n",
              "      <td>5</td>\n",
              "      <td>1993-08-08</td>\n",
              "    </tr>\n",
              "    <tr>\n",
              "      <th>2</th>\n",
              "      <td>3</td>\n",
              "      <td>Switzerland</td>\n",
              "      <td>SUI</td>\n",
              "      <td>0.0</td>\n",
              "      <td>50</td>\n",
              "      <td>9</td>\n",
              "      <td>0.0</td>\n",
              "      <td>0.0</td>\n",
              "      <td>0.0</td>\n",
              "      <td>0.0</td>\n",
              "      <td>0.0</td>\n",
              "      <td>0.0</td>\n",
              "      <td>0.0</td>\n",
              "      <td>0.0</td>\n",
              "      <td>5</td>\n",
              "      <td>1993-08-08</td>\n",
              "    </tr>\n",
              "    <tr>\n",
              "      <th>3</th>\n",
              "      <td>4</td>\n",
              "      <td>Sweden</td>\n",
              "      <td>SWE</td>\n",
              "      <td>0.0</td>\n",
              "      <td>55</td>\n",
              "      <td>0</td>\n",
              "      <td>0.0</td>\n",
              "      <td>0.0</td>\n",
              "      <td>0.0</td>\n",
              "      <td>0.0</td>\n",
              "      <td>0.0</td>\n",
              "      <td>0.0</td>\n",
              "      <td>0.0</td>\n",
              "      <td>0.0</td>\n",
              "      <td>5</td>\n",
              "      <td>1993-08-08</td>\n",
              "    </tr>\n",
              "    <tr>\n",
              "      <th>4</th>\n",
              "      <td>5</td>\n",
              "      <td>Argentina</td>\n",
              "      <td>ARG</td>\n",
              "      <td>0.0</td>\n",
              "      <td>51</td>\n",
              "      <td>5</td>\n",
              "      <td>0.0</td>\n",
              "      <td>0.0</td>\n",
              "      <td>0.0</td>\n",
              "      <td>0.0</td>\n",
              "      <td>0.0</td>\n",
              "      <td>0.0</td>\n",
              "      <td>0.0</td>\n",
              "      <td>0.0</td>\n",
              "      <td>3</td>\n",
              "      <td>1993-08-08</td>\n",
              "    </tr>\n",
              "  </tbody>\n",
              "</table>\n",
              "</div>"
            ],
            "text/plain": [
              "   rank country_full  ... confederation   rank_date\n",
              "0     1      Germany  ...             5  1993-08-08\n",
              "1     2        Italy  ...             5  1993-08-08\n",
              "2     3  Switzerland  ...             5  1993-08-08\n",
              "3     4       Sweden  ...             5  1993-08-08\n",
              "4     5    Argentina  ...             3  1993-08-08\n",
              "\n",
              "[5 rows x 16 columns]"
            ]
          },
          "metadata": {},
          "execution_count": 9
        }
      ]
    },
    {
      "cell_type": "markdown",
      "metadata": {
        "id": "UoYNNZ5MU6Yh"
      },
      "source": [
        "**checking and making sure each colum has appropriate data types**"
      ]
    },
    {
      "cell_type": "code",
      "metadata": {
        "colab": {
          "base_uri": "https://localhost:8080/"
        },
        "id": "r5z-3KrGUy91",
        "outputId": "cf8df454-0973-4038-c906-acba62bd2f82"
      },
      "source": [
        "# Checking whether Fifa ranking has an appropriate datatype\n",
        "#\n",
        "fifa_ranking.info()\n",
        "#Date  need to be converted"
      ],
      "execution_count": 10,
      "outputs": [
        {
          "output_type": "stream",
          "name": "stdout",
          "text": [
            "<class 'pandas.core.frame.DataFrame'>\n",
            "RangeIndex: 57793 entries, 0 to 57792\n",
            "Data columns (total 16 columns):\n",
            " #   Column                   Non-Null Count  Dtype  \n",
            "---  ------                   --------------  -----  \n",
            " 0   rank                     57793 non-null  int64  \n",
            " 1   country_full             57793 non-null  object \n",
            " 2   country_abrv             57793 non-null  object \n",
            " 3   total_points             57793 non-null  float64\n",
            " 4   previous_points          57793 non-null  int64  \n",
            " 5   rank_change              57793 non-null  int64  \n",
            " 6   cur_year_avg             57793 non-null  float64\n",
            " 7   cur_year_avg_weighted    57793 non-null  float64\n",
            " 8   last_year_avg            57793 non-null  float64\n",
            " 9   last_year_avg_weighted   57793 non-null  float64\n",
            " 10  two_year_ago_avg         57793 non-null  float64\n",
            " 11  two_year_ago_weighted    57793 non-null  float64\n",
            " 12  three_year_ago_avg       57793 non-null  float64\n",
            " 13  three_year_ago_weighted  57793 non-null  float64\n",
            " 14  confederation            57793 non-null  int64  \n",
            " 15  rank_date                57793 non-null  object \n",
            "dtypes: float64(9), int64(4), object(3)\n",
            "memory usage: 7.1+ MB\n"
          ]
        }
      ]
    },
    {
      "cell_type": "code",
      "metadata": {
        "id": "6WIfMqfQVItE"
      },
      "source": [
        "# convert date colukns to date type\n",
        "fifa_ranking['rank_date']=pd.to_datetime(fifa_ranking['rank_date'])"
      ],
      "execution_count": 11,
      "outputs": []
    },
    {
      "cell_type": "code",
      "metadata": {
        "colab": {
          "base_uri": "https://localhost:8080/"
        },
        "id": "MLGAsqZeVSIe",
        "outputId": "dd3af420-1a45-4556-fe98-3378f83268dc"
      },
      "source": [
        "#Fifa results data types\n",
        "#convert date to date type\n",
        "fifa_results['date']=pd.to_datetime(fifa_results['date'])\n",
        "fifa_results.info()"
      ],
      "execution_count": 12,
      "outputs": [
        {
          "output_type": "stream",
          "name": "stdout",
          "text": [
            "<class 'pandas.core.frame.DataFrame'>\n",
            "RangeIndex: 40839 entries, 0 to 40838\n",
            "Data columns (total 9 columns):\n",
            " #   Column      Non-Null Count  Dtype         \n",
            "---  ------      --------------  -----         \n",
            " 0   date        40839 non-null  datetime64[ns]\n",
            " 1   home_team   40839 non-null  object        \n",
            " 2   away_team   40839 non-null  object        \n",
            " 3   home_score  40839 non-null  int64         \n",
            " 4   away_score  40839 non-null  int64         \n",
            " 5   tournament  40839 non-null  int64         \n",
            " 6   city        40839 non-null  object        \n",
            " 7   country     40839 non-null  object        \n",
            " 8   neutral     40839 non-null  bool          \n",
            "dtypes: bool(1), datetime64[ns](1), int64(3), object(4)\n",
            "memory usage: 2.5+ MB\n"
          ]
        }
      ]
    },
    {
      "cell_type": "markdown",
      "metadata": {
        "id": "JgK3s9qJVh5V"
      },
      "source": [
        "**4. External Data Source Validation**\n",
        "\n",
        "Making sure your data matches something outside of the dataset is very important. It allows you to ensure that the measurements are roughly in line with what they should be and it serves as a check on what other things might be wrong in your dataset. External validation can often be as simple as checking your data against a single number, as we will do here.\n",
        "\n",
        "**a.Validation**\n",
        "\n",
        "We took some records of fifa ranking and checked against official fifa ranking. Its correct. We also checked games played over time and realized the data given is correct representation of FIFA football match played"
      ]
    },
    {
      "cell_type": "markdown",
      "metadata": {
        "id": "7slEFgKrVtHw"
      },
      "source": [
        "**5. Tidying the Dataset**"
      ]
    },
    {
      "cell_type": "code",
      "metadata": {
        "id": "WrEAwY53VsIi"
      },
      "source": [
        "# Checking for Outliers\n",
        "#"
      ],
      "execution_count": 13,
      "outputs": []
    },
    {
      "cell_type": "code",
      "metadata": {
        "id": "AWlbdZsRVhQ2"
      },
      "source": [
        "# Checking for Anomalies\n",
        "#"
      ],
      "execution_count": 14,
      "outputs": []
    },
    {
      "cell_type": "code",
      "metadata": {
        "colab": {
          "base_uri": "https://localhost:8080/",
          "height": 333
        },
        "id": "t2H8bYoOVbCS",
        "outputId": "a5a7bc36-4dd2-415f-c301-7c3a838d2332"
      },
      "source": [
        "# Identifying the Missing Data\n",
        "sns.heatmap(fifa_results.isnull(), yticklabels=False,cbar=False, cmap='viridis')"
      ],
      "execution_count": 15,
      "outputs": [
        {
          "output_type": "execute_result",
          "data": {
            "text/plain": [
              "<matplotlib.axes._subplots.AxesSubplot at 0x7f52b2992950>"
            ]
          },
          "metadata": {},
          "execution_count": 15
        },
        {
          "output_type": "display_data",
          "data": {
            "image/png": "[encoded data removed]",
            "text/plain": [
              "<Figure size 432x288 with 1 Axes>"
            ]
          },
          "metadata": {
            "needs_background": "light"
          }
        }
      ]
    },
    {
      "cell_type": "code",
      "metadata": {
        "colab": {
          "base_uri": "https://localhost:8080/",
          "height": 697
        },
        "id": "eLCVdRlbWFHx",
        "outputId": "7a676559-5751-47b1-ae6c-23b21bf98e6e"
      },
      "source": [
        "# missing data in the fifa ranking \n",
        "\n",
        "sns.heatmap(fifa_ranking.isnull(), yticklabels=False,cbar=False, cmap='viridis')\n",
        "fifa_ranking.isnull().sum()"
      ],
      "execution_count": 16,
      "outputs": [
        {
          "output_type": "execute_result",
          "data": {
            "text/plain": [
              "rank                       0\n",
              "country_full               0\n",
              "country_abrv               0\n",
              "total_points               0\n",
              "previous_points            0\n",
              "rank_change                0\n",
              "cur_year_avg               0\n",
              "cur_year_avg_weighted      0\n",
              "last_year_avg              0\n",
              "last_year_avg_weighted     0\n",
              "two_year_ago_avg           0\n",
              "two_year_ago_weighted      0\n",
              "three_year_ago_avg         0\n",
              "three_year_ago_weighted    0\n",
              "confederation              0\n",
              "rank_date                  0\n",
              "dtype: int64"
            ]
          },
          "metadata": {},
          "execution_count": 16
        },
        {
          "output_type": "display_data",
          "data": {
            "image/png": "[encoded data removed]",
            "text/plain": [
              "<Figure size 432x288 with 1 Axes>"
            ]
          },
          "metadata": {
            "needs_background": "light"
          }
        }
      ]
    },
    {
      "cell_type": "markdown",
      "metadata": {
        "id": "1x1CsUaqW2Q2"
      },
      "source": [
        "***Seems there are no missing values. However, when we merge the dataset or assign the values of ranking to fifa results table we are likely to get missing values***"
      ]
    },
    {
      "cell_type": "code",
      "metadata": {
        "id": "GzB-GzibWs2o"
      },
      "source": [
        "# Dealing with the Missing Data\n",
        "#"
      ],
      "execution_count": 17,
      "outputs": []
    },
    {
      "cell_type": "markdown",
      "metadata": {
        "id": "5VjmOAT1XYx8"
      },
      "source": [
        "**More data cleaning procedures**"
      ]
    },
    {
      "cell_type": "code",
      "metadata": {
        "id": "BJQTT0HaXB1l"
      },
      "source": [
        "#Add year to the two datasets using dt.year method \n",
        "fifa_results['Year']= fifa_results['date'].dt.year\n",
        "fifa_ranking['Year']=fifa_ranking['rank_date'].dt.year"
      ],
      "execution_count": 18,
      "outputs": []
    },
    {
      "cell_type": "code",
      "metadata": {
        "colab": {
          "base_uri": "https://localhost:8080/",
          "height": 423
        },
        "id": "e-r4SF0TXfLg",
        "outputId": "28533bd2-4438-4b5c-9a67-02d6961b8473"
      },
      "source": [
        "# Creating a dataset of fifa results to incorporat only years that are in fifa ranking\n",
        "Years = list(fifa_ranking['Year'].unique())\n",
        "#get those games from 1993 when fifa started ranking teams\n",
        "fifa_results = fifa_results[fifa_results['Year'].isin(Years)]\n",
        "fifa_results"
      ],
      "execution_count": 19,
      "outputs": [
        {
          "output_type": "execute_result",
          "data": {
            "text/html": [
              "<div>\n",
              "<style scoped>\n",
              "    .dataframe tbody tr th:only-of-type {\n",
              "        vertical-align: middle;\n",
              "    }\n",
              "\n",
              "    .dataframe tbody tr th {\n",
              "        vertical-align: top;\n",
              "    }\n",
              "\n",
              "    .dataframe thead th {\n",
              "        text-align: right;\n",
              "    }\n",
              "</style>\n",
              "<table border=\"1\" class=\"dataframe\">\n",
              "  <thead>\n",
              "    <tr style=\"text-align: right;\">\n",
              "      <th></th>\n",
              "      <th>date</th>\n",
              "      <th>home_team</th>\n",
              "      <th>away_team</th>\n",
              "      <th>home_score</th>\n",
              "      <th>away_score</th>\n",
              "      <th>tournament</th>\n",
              "      <th>city</th>\n",
              "      <th>country</th>\n",
              "      <th>neutral</th>\n",
              "      <th>Year</th>\n",
              "    </tr>\n",
              "  </thead>\n",
              "  <tbody>\n",
              "    <tr>\n",
              "      <th>17361</th>\n",
              "      <td>1993-01-01</td>\n",
              "      <td>Ghana</td>\n",
              "      <td>Mali</td>\n",
              "      <td>1</td>\n",
              "      <td>1</td>\n",
              "      <td>54</td>\n",
              "      <td>Libreville</td>\n",
              "      <td>Gabon</td>\n",
              "      <td>True</td>\n",
              "      <td>1993</td>\n",
              "    </tr>\n",
              "    <tr>\n",
              "      <th>17362</th>\n",
              "      <td>1993-01-02</td>\n",
              "      <td>Gabon</td>\n",
              "      <td>Burkina Faso</td>\n",
              "      <td>1</td>\n",
              "      <td>1</td>\n",
              "      <td>54</td>\n",
              "      <td>Libreville</td>\n",
              "      <td>Gabon</td>\n",
              "      <td>False</td>\n",
              "      <td>1993</td>\n",
              "    </tr>\n",
              "    <tr>\n",
              "      <th>17363</th>\n",
              "      <td>1993-01-02</td>\n",
              "      <td>Kuwait</td>\n",
              "      <td>Lebanon</td>\n",
              "      <td>2</td>\n",
              "      <td>0</td>\n",
              "      <td>54</td>\n",
              "      <td>Kuwait City</td>\n",
              "      <td>Kuwait</td>\n",
              "      <td>False</td>\n",
              "      <td>1993</td>\n",
              "    </tr>\n",
              "    <tr>\n",
              "      <th>17364</th>\n",
              "      <td>1993-01-03</td>\n",
              "      <td>Burkina Faso</td>\n",
              "      <td>Mali</td>\n",
              "      <td>1</td>\n",
              "      <td>0</td>\n",
              "      <td>54</td>\n",
              "      <td>Libreville</td>\n",
              "      <td>Gabon</td>\n",
              "      <td>True</td>\n",
              "      <td>1993</td>\n",
              "    </tr>\n",
              "    <tr>\n",
              "      <th>17365</th>\n",
              "      <td>1993-01-03</td>\n",
              "      <td>Gabon</td>\n",
              "      <td>Ghana</td>\n",
              "      <td>2</td>\n",
              "      <td>3</td>\n",
              "      <td>54</td>\n",
              "      <td>Libreville</td>\n",
              "      <td>Gabon</td>\n",
              "      <td>False</td>\n",
              "      <td>1993</td>\n",
              "    </tr>\n",
              "    <tr>\n",
              "      <th>...</th>\n",
              "      <td>...</td>\n",
              "      <td>...</td>\n",
              "      <td>...</td>\n",
              "      <td>...</td>\n",
              "      <td>...</td>\n",
              "      <td>...</td>\n",
              "      <td>...</td>\n",
              "      <td>...</td>\n",
              "      <td>...</td>\n",
              "      <td>...</td>\n",
              "    </tr>\n",
              "    <tr>\n",
              "      <th>40346</th>\n",
              "      <td>2018-12-30</td>\n",
              "      <td>Yemen</td>\n",
              "      <td>Syria</td>\n",
              "      <td>0</td>\n",
              "      <td>1</td>\n",
              "      <td>54</td>\n",
              "      <td>Abu Dhabi</td>\n",
              "      <td>United Arab Emirates</td>\n",
              "      <td>True</td>\n",
              "      <td>2018</td>\n",
              "    </tr>\n",
              "    <tr>\n",
              "      <th>40347</th>\n",
              "      <td>2018-12-31</td>\n",
              "      <td>South Korea</td>\n",
              "      <td>Saudi Arabia</td>\n",
              "      <td>0</td>\n",
              "      <td>0</td>\n",
              "      <td>54</td>\n",
              "      <td>Abu Dhabi</td>\n",
              "      <td>United Arab Emirates</td>\n",
              "      <td>True</td>\n",
              "      <td>2018</td>\n",
              "    </tr>\n",
              "    <tr>\n",
              "      <th>40348</th>\n",
              "      <td>2018-12-31</td>\n",
              "      <td>Kyrgyzstan</td>\n",
              "      <td>Palestine</td>\n",
              "      <td>2</td>\n",
              "      <td>1</td>\n",
              "      <td>54</td>\n",
              "      <td>Doha</td>\n",
              "      <td>Qatar</td>\n",
              "      <td>True</td>\n",
              "      <td>2018</td>\n",
              "    </tr>\n",
              "    <tr>\n",
              "      <th>40349</th>\n",
              "      <td>2018-12-31</td>\n",
              "      <td>Philippines</td>\n",
              "      <td>Vietnam</td>\n",
              "      <td>2</td>\n",
              "      <td>4</td>\n",
              "      <td>54</td>\n",
              "      <td>Doha</td>\n",
              "      <td>Qatar</td>\n",
              "      <td>True</td>\n",
              "      <td>2018</td>\n",
              "    </tr>\n",
              "    <tr>\n",
              "      <th>40350</th>\n",
              "      <td>2018-12-31</td>\n",
              "      <td>Qatar</td>\n",
              "      <td>Iran</td>\n",
              "      <td>1</td>\n",
              "      <td>2</td>\n",
              "      <td>54</td>\n",
              "      <td>Doha</td>\n",
              "      <td>Qatar</td>\n",
              "      <td>False</td>\n",
              "      <td>2018</td>\n",
              "    </tr>\n",
              "  </tbody>\n",
              "</table>\n",
              "<p>22990 rows × 10 columns</p>\n",
              "</div>"
            ],
            "text/plain": [
              "            date     home_team  ... neutral  Year\n",
              "17361 1993-01-01         Ghana  ...    True  1993\n",
              "17362 1993-01-02         Gabon  ...   False  1993\n",
              "17363 1993-01-02        Kuwait  ...   False  1993\n",
              "17364 1993-01-03  Burkina Faso  ...    True  1993\n",
              "17365 1993-01-03         Gabon  ...   False  1993\n",
              "...          ...           ...  ...     ...   ...\n",
              "40346 2018-12-30         Yemen  ...    True  2018\n",
              "40347 2018-12-31   South Korea  ...    True  2018\n",
              "40348 2018-12-31    Kyrgyzstan  ...    True  2018\n",
              "40349 2018-12-31   Philippines  ...    True  2018\n",
              "40350 2018-12-31         Qatar  ...   False  2018\n",
              "\n",
              "[22990 rows x 10 columns]"
            ]
          },
          "metadata": {},
          "execution_count": 19
        }
      ]
    },
    {
      "cell_type": "code",
      "metadata": {
        "id": "-PziofhrYBpD"
      },
      "source": [
        "# create a new dataframe for fifa ranking that wwill show teams and ranks per year\n",
        "new_ranks=fifa_ranking.set_index('country_full')[['rank','Year']].drop_duplicates().reset_index()\n",
        "#new_ranks.to_csv('data/Fifa_new_ranks.csv')"
      ],
      "execution_count": 21,
      "outputs": []
    },
    {
      "cell_type": "code",
      "metadata": {
        "colab": {
          "base_uri": "https://localhost:8080/",
          "height": 423
        },
        "id": "CPZMcoykYIft",
        "outputId": "fbd557bf-957d-4fcf-91ec-2907b2a132c5"
      },
      "source": [
        "new_ranks"
      ],
      "execution_count": 22,
      "outputs": [
        {
          "output_type": "execute_result",
          "data": {
            "text/html": [
              "<div>\n",
              "<style scoped>\n",
              "    .dataframe tbody tr th:only-of-type {\n",
              "        vertical-align: middle;\n",
              "    }\n",
              "\n",
              "    .dataframe tbody tr th {\n",
              "        vertical-align: top;\n",
              "    }\n",
              "\n",
              "    .dataframe thead th {\n",
              "        text-align: right;\n",
              "    }\n",
              "</style>\n",
              "<table border=\"1\" class=\"dataframe\">\n",
              "  <thead>\n",
              "    <tr style=\"text-align: right;\">\n",
              "      <th></th>\n",
              "      <th>country_full</th>\n",
              "      <th>rank</th>\n",
              "      <th>Year</th>\n",
              "    </tr>\n",
              "  </thead>\n",
              "  <tbody>\n",
              "    <tr>\n",
              "      <th>0</th>\n",
              "      <td>Germany</td>\n",
              "      <td>1</td>\n",
              "      <td>1993</td>\n",
              "    </tr>\n",
              "    <tr>\n",
              "      <th>1</th>\n",
              "      <td>Italy</td>\n",
              "      <td>2</td>\n",
              "      <td>1993</td>\n",
              "    </tr>\n",
              "    <tr>\n",
              "      <th>2</th>\n",
              "      <td>Switzerland</td>\n",
              "      <td>3</td>\n",
              "      <td>1993</td>\n",
              "    </tr>\n",
              "    <tr>\n",
              "      <th>3</th>\n",
              "      <td>Sweden</td>\n",
              "      <td>4</td>\n",
              "      <td>1993</td>\n",
              "    </tr>\n",
              "    <tr>\n",
              "      <th>4</th>\n",
              "      <td>Argentina</td>\n",
              "      <td>5</td>\n",
              "      <td>1993</td>\n",
              "    </tr>\n",
              "    <tr>\n",
              "      <th>...</th>\n",
              "      <td>...</td>\n",
              "      <td>...</td>\n",
              "      <td>...</td>\n",
              "    </tr>\n",
              "    <tr>\n",
              "      <th>5192</th>\n",
              "      <td>Belize</td>\n",
              "      <td>167</td>\n",
              "      <td>2018</td>\n",
              "    </tr>\n",
              "    <tr>\n",
              "      <th>5193</th>\n",
              "      <td>Gibraltar</td>\n",
              "      <td>196</td>\n",
              "      <td>2018</td>\n",
              "    </tr>\n",
              "    <tr>\n",
              "      <th>5194</th>\n",
              "      <td>Anguilla</td>\n",
              "      <td>207</td>\n",
              "      <td>2018</td>\n",
              "    </tr>\n",
              "    <tr>\n",
              "      <th>5195</th>\n",
              "      <td>Belize</td>\n",
              "      <td>169</td>\n",
              "      <td>2018</td>\n",
              "    </tr>\n",
              "    <tr>\n",
              "      <th>5196</th>\n",
              "      <td>Brunei Darussalam</td>\n",
              "      <td>195</td>\n",
              "      <td>2018</td>\n",
              "    </tr>\n",
              "  </tbody>\n",
              "</table>\n",
              "<p>5197 rows × 3 columns</p>\n",
              "</div>"
            ],
            "text/plain": [
              "           country_full  rank  Year\n",
              "0               Germany     1  1993\n",
              "1                 Italy     2  1993\n",
              "2           Switzerland     3  1993\n",
              "3                Sweden     4  1993\n",
              "4             Argentina     5  1993\n",
              "...                 ...   ...   ...\n",
              "5192             Belize   167  2018\n",
              "5193          Gibraltar   196  2018\n",
              "5194           Anguilla   207  2018\n",
              "5195             Belize   169  2018\n",
              "5196  Brunei Darussalam   195  2018\n",
              "\n",
              "[5197 rows x 3 columns]"
            ]
          },
          "metadata": {},
          "execution_count": 22
        }
      ]
    },
    {
      "cell_type": "markdown",
      "metadata": {
        "id": "0tOVAjG7ZisC"
      },
      "source": [
        "**append ranks and results to fifa results table**"
      ]
    },
    {
      "cell_type": "code",
      "metadata": {
        "id": "ndfVTdupZiAP"
      },
      "source": [
        "# Function to append home and away rank\n",
        "def update_rank(country, year):\n",
        "    home_rank= new_ranks[(new_ranks['country_full']==country) & (new_ranks['Year']==year)]['rank'].values#.reshape([1])\n",
        "    return home_rank"
      ],
      "execution_count": 23,
      "outputs": []
    },
    {
      "cell_type": "code",
      "metadata": {
        "id": "R9HtD5_qYeNo"
      },
      "source": [
        "#Append home rank using the function by creating  a new column \n",
        "fifa_results['Home_rank'] = fifa_results.apply(lambda x: update_rank(x['home_team'], x['Year']), axis=1)"
      ],
      "execution_count": 24,
      "outputs": []
    },
    {
      "cell_type": "code",
      "metadata": {
        "id": "zNXfnv6jbNb-"
      },
      "source": [
        "#Append home rank using the function by creating  a new column \n",
        "fifa_results['Away_rank'] = fifa_results.apply(lambda x: update_rank(x['away_team'], x['Year']), axis=1)"
      ],
      "execution_count": 25,
      "outputs": []
    },
    {
      "cell_type": "code",
      "metadata": {
        "colab": {
          "base_uri": "https://localhost:8080/",
          "height": 596
        },
        "id": "TrjT9ePbbWZI",
        "outputId": "ac4c8868-cad1-4552-f8d6-a81cf61e8349"
      },
      "source": [
        "fifa_results"
      ],
      "execution_count": 26,
      "outputs": [
        {
          "output_type": "execute_result",
          "data": {
            "text/html": [
              "<div>\n",
              "<style scoped>\n",
              "    .dataframe tbody tr th:only-of-type {\n",
              "        vertical-align: middle;\n",
              "    }\n",
              "\n",
              "    .dataframe tbody tr th {\n",
              "        vertical-align: top;\n",
              "    }\n",
              "\n",
              "    .dataframe thead th {\n",
              "        text-align: right;\n",
              "    }\n",
              "</style>\n",
              "<table border=\"1\" class=\"dataframe\">\n",
              "  <thead>\n",
              "    <tr style=\"text-align: right;\">\n",
              "      <th></th>\n",
              "      <th>date</th>\n",
              "      <th>home_team</th>\n",
              "      <th>away_team</th>\n",
              "      <th>home_score</th>\n",
              "      <th>away_score</th>\n",
              "      <th>tournament</th>\n",
              "      <th>city</th>\n",
              "      <th>country</th>\n",
              "      <th>neutral</th>\n",
              "      <th>Year</th>\n",
              "      <th>Home_rank</th>\n",
              "      <th>Away_rank</th>\n",
              "    </tr>\n",
              "  </thead>\n",
              "  <tbody>\n",
              "    <tr>\n",
              "      <th>17361</th>\n",
              "      <td>1993-01-01</td>\n",
              "      <td>Ghana</td>\n",
              "      <td>Mali</td>\n",
              "      <td>1</td>\n",
              "      <td>1</td>\n",
              "      <td>54</td>\n",
              "      <td>Libreville</td>\n",
              "      <td>Gabon</td>\n",
              "      <td>True</td>\n",
              "      <td>1993</td>\n",
              "      <td>[48]</td>\n",
              "      <td>[74]</td>\n",
              "    </tr>\n",
              "    <tr>\n",
              "      <th>17362</th>\n",
              "      <td>1993-01-02</td>\n",
              "      <td>Gabon</td>\n",
              "      <td>Burkina Faso</td>\n",
              "      <td>1</td>\n",
              "      <td>1</td>\n",
              "      <td>54</td>\n",
              "      <td>Libreville</td>\n",
              "      <td>Gabon</td>\n",
              "      <td>False</td>\n",
              "      <td>1993</td>\n",
              "      <td>[64]</td>\n",
              "      <td>[113]</td>\n",
              "    </tr>\n",
              "    <tr>\n",
              "      <th>17363</th>\n",
              "      <td>1993-01-02</td>\n",
              "      <td>Kuwait</td>\n",
              "      <td>Lebanon</td>\n",
              "      <td>2</td>\n",
              "      <td>0</td>\n",
              "      <td>54</td>\n",
              "      <td>Kuwait City</td>\n",
              "      <td>Kuwait</td>\n",
              "      <td>False</td>\n",
              "      <td>1993</td>\n",
              "      <td>[60]</td>\n",
              "      <td>[108]</td>\n",
              "    </tr>\n",
              "    <tr>\n",
              "      <th>17364</th>\n",
              "      <td>1993-01-03</td>\n",
              "      <td>Burkina Faso</td>\n",
              "      <td>Mali</td>\n",
              "      <td>1</td>\n",
              "      <td>0</td>\n",
              "      <td>54</td>\n",
              "      <td>Libreville</td>\n",
              "      <td>Gabon</td>\n",
              "      <td>True</td>\n",
              "      <td>1993</td>\n",
              "      <td>[113]</td>\n",
              "      <td>[74]</td>\n",
              "    </tr>\n",
              "    <tr>\n",
              "      <th>17365</th>\n",
              "      <td>1993-01-03</td>\n",
              "      <td>Gabon</td>\n",
              "      <td>Ghana</td>\n",
              "      <td>2</td>\n",
              "      <td>3</td>\n",
              "      <td>54</td>\n",
              "      <td>Libreville</td>\n",
              "      <td>Gabon</td>\n",
              "      <td>False</td>\n",
              "      <td>1993</td>\n",
              "      <td>[64]</td>\n",
              "      <td>[48]</td>\n",
              "    </tr>\n",
              "    <tr>\n",
              "      <th>...</th>\n",
              "      <td>...</td>\n",
              "      <td>...</td>\n",
              "      <td>...</td>\n",
              "      <td>...</td>\n",
              "      <td>...</td>\n",
              "      <td>...</td>\n",
              "      <td>...</td>\n",
              "      <td>...</td>\n",
              "      <td>...</td>\n",
              "      <td>...</td>\n",
              "      <td>...</td>\n",
              "      <td>...</td>\n",
              "    </tr>\n",
              "    <tr>\n",
              "      <th>40346</th>\n",
              "      <td>2018-12-30</td>\n",
              "      <td>Yemen</td>\n",
              "      <td>Syria</td>\n",
              "      <td>0</td>\n",
              "      <td>1</td>\n",
              "      <td>54</td>\n",
              "      <td>Abu Dhabi</td>\n",
              "      <td>United Arab Emirates</td>\n",
              "      <td>True</td>\n",
              "      <td>2018</td>\n",
              "      <td>[138]</td>\n",
              "      <td>[76]</td>\n",
              "    </tr>\n",
              "    <tr>\n",
              "      <th>40347</th>\n",
              "      <td>2018-12-31</td>\n",
              "      <td>South Korea</td>\n",
              "      <td>Saudi Arabia</td>\n",
              "      <td>0</td>\n",
              "      <td>0</td>\n",
              "      <td>54</td>\n",
              "      <td>Abu Dhabi</td>\n",
              "      <td>United Arab Emirates</td>\n",
              "      <td>True</td>\n",
              "      <td>2018</td>\n",
              "      <td>[]</td>\n",
              "      <td>[65]</td>\n",
              "    </tr>\n",
              "    <tr>\n",
              "      <th>40348</th>\n",
              "      <td>2018-12-31</td>\n",
              "      <td>Kyrgyzstan</td>\n",
              "      <td>Palestine</td>\n",
              "      <td>2</td>\n",
              "      <td>1</td>\n",
              "      <td>54</td>\n",
              "      <td>Doha</td>\n",
              "      <td>Qatar</td>\n",
              "      <td>True</td>\n",
              "      <td>2018</td>\n",
              "      <td>[]</td>\n",
              "      <td>[75]</td>\n",
              "    </tr>\n",
              "    <tr>\n",
              "      <th>40349</th>\n",
              "      <td>2018-12-31</td>\n",
              "      <td>Philippines</td>\n",
              "      <td>Vietnam</td>\n",
              "      <td>2</td>\n",
              "      <td>4</td>\n",
              "      <td>54</td>\n",
              "      <td>Doha</td>\n",
              "      <td>Qatar</td>\n",
              "      <td>True</td>\n",
              "      <td>2018</td>\n",
              "      <td>[123]</td>\n",
              "      <td>[112]</td>\n",
              "    </tr>\n",
              "    <tr>\n",
              "      <th>40350</th>\n",
              "      <td>2018-12-31</td>\n",
              "      <td>Qatar</td>\n",
              "      <td>Iran</td>\n",
              "      <td>1</td>\n",
              "      <td>2</td>\n",
              "      <td>54</td>\n",
              "      <td>Doha</td>\n",
              "      <td>Qatar</td>\n",
              "      <td>False</td>\n",
              "      <td>2018</td>\n",
              "      <td>[103]</td>\n",
              "      <td>[]</td>\n",
              "    </tr>\n",
              "  </tbody>\n",
              "</table>\n",
              "<p>22990 rows × 12 columns</p>\n",
              "</div>"
            ],
            "text/plain": [
              "            date     home_team     away_team  ...  Year  Home_rank  Away_rank\n",
              "17361 1993-01-01         Ghana          Mali  ...  1993       [48]       [74]\n",
              "17362 1993-01-02         Gabon  Burkina Faso  ...  1993       [64]      [113]\n",
              "17363 1993-01-02        Kuwait       Lebanon  ...  1993       [60]      [108]\n",
              "17364 1993-01-03  Burkina Faso          Mali  ...  1993      [113]       [74]\n",
              "17365 1993-01-03         Gabon         Ghana  ...  1993       [64]       [48]\n",
              "...          ...           ...           ...  ...   ...        ...        ...\n",
              "40346 2018-12-30         Yemen         Syria  ...  2018      [138]       [76]\n",
              "40347 2018-12-31   South Korea  Saudi Arabia  ...  2018         []       [65]\n",
              "40348 2018-12-31    Kyrgyzstan     Palestine  ...  2018         []       [75]\n",
              "40349 2018-12-31   Philippines       Vietnam  ...  2018      [123]      [112]\n",
              "40350 2018-12-31         Qatar          Iran  ...  2018      [103]         []\n",
              "\n",
              "[22990 rows x 12 columns]"
            ]
          },
          "metadata": {},
          "execution_count": 26
        }
      ]
    },
    {
      "cell_type": "code",
      "metadata": {
        "colab": {
          "base_uri": "https://localhost:8080/",
          "height": 596
        },
        "id": "nyukyFpDbodk",
        "outputId": "d1c43703-4273-4a28-e51c-4c11faa7f48d"
      },
      "source": [
        "fifa_results"
      ],
      "execution_count": 27,
      "outputs": [
        {
          "output_type": "execute_result",
          "data": {
            "text/html": [
              "<div>\n",
              "<style scoped>\n",
              "    .dataframe tbody tr th:only-of-type {\n",
              "        vertical-align: middle;\n",
              "    }\n",
              "\n",
              "    .dataframe tbody tr th {\n",
              "        vertical-align: top;\n",
              "    }\n",
              "\n",
              "    .dataframe thead th {\n",
              "        text-align: right;\n",
              "    }\n",
              "</style>\n",
              "<table border=\"1\" class=\"dataframe\">\n",
              "  <thead>\n",
              "    <tr style=\"text-align: right;\">\n",
              "      <th></th>\n",
              "      <th>date</th>\n",
              "      <th>home_team</th>\n",
              "      <th>away_team</th>\n",
              "      <th>home_score</th>\n",
              "      <th>away_score</th>\n",
              "      <th>tournament</th>\n",
              "      <th>city</th>\n",
              "      <th>country</th>\n",
              "      <th>neutral</th>\n",
              "      <th>Year</th>\n",
              "      <th>Home_rank</th>\n",
              "      <th>Away_rank</th>\n",
              "    </tr>\n",
              "  </thead>\n",
              "  <tbody>\n",
              "    <tr>\n",
              "      <th>17361</th>\n",
              "      <td>1993-01-01</td>\n",
              "      <td>Ghana</td>\n",
              "      <td>Mali</td>\n",
              "      <td>1</td>\n",
              "      <td>1</td>\n",
              "      <td>54</td>\n",
              "      <td>Libreville</td>\n",
              "      <td>Gabon</td>\n",
              "      <td>True</td>\n",
              "      <td>1993</td>\n",
              "      <td>[48]</td>\n",
              "      <td>[74]</td>\n",
              "    </tr>\n",
              "    <tr>\n",
              "      <th>17362</th>\n",
              "      <td>1993-01-02</td>\n",
              "      <td>Gabon</td>\n",
              "      <td>Burkina Faso</td>\n",
              "      <td>1</td>\n",
              "      <td>1</td>\n",
              "      <td>54</td>\n",
              "      <td>Libreville</td>\n",
              "      <td>Gabon</td>\n",
              "      <td>False</td>\n",
              "      <td>1993</td>\n",
              "      <td>[64]</td>\n",
              "      <td>[113]</td>\n",
              "    </tr>\n",
              "    <tr>\n",
              "      <th>17363</th>\n",
              "      <td>1993-01-02</td>\n",
              "      <td>Kuwait</td>\n",
              "      <td>Lebanon</td>\n",
              "      <td>2</td>\n",
              "      <td>0</td>\n",
              "      <td>54</td>\n",
              "      <td>Kuwait City</td>\n",
              "      <td>Kuwait</td>\n",
              "      <td>False</td>\n",
              "      <td>1993</td>\n",
              "      <td>[60]</td>\n",
              "      <td>[108]</td>\n",
              "    </tr>\n",
              "    <tr>\n",
              "      <th>17364</th>\n",
              "      <td>1993-01-03</td>\n",
              "      <td>Burkina Faso</td>\n",
              "      <td>Mali</td>\n",
              "      <td>1</td>\n",
              "      <td>0</td>\n",
              "      <td>54</td>\n",
              "      <td>Libreville</td>\n",
              "      <td>Gabon</td>\n",
              "      <td>True</td>\n",
              "      <td>1993</td>\n",
              "      <td>[113]</td>\n",
              "      <td>[74]</td>\n",
              "    </tr>\n",
              "    <tr>\n",
              "      <th>17365</th>\n",
              "      <td>1993-01-03</td>\n",
              "      <td>Gabon</td>\n",
              "      <td>Ghana</td>\n",
              "      <td>2</td>\n",
              "      <td>3</td>\n",
              "      <td>54</td>\n",
              "      <td>Libreville</td>\n",
              "      <td>Gabon</td>\n",
              "      <td>False</td>\n",
              "      <td>1993</td>\n",
              "      <td>[64]</td>\n",
              "      <td>[48]</td>\n",
              "    </tr>\n",
              "    <tr>\n",
              "      <th>...</th>\n",
              "      <td>...</td>\n",
              "      <td>...</td>\n",
              "      <td>...</td>\n",
              "      <td>...</td>\n",
              "      <td>...</td>\n",
              "      <td>...</td>\n",
              "      <td>...</td>\n",
              "      <td>...</td>\n",
              "      <td>...</td>\n",
              "      <td>...</td>\n",
              "      <td>...</td>\n",
              "      <td>...</td>\n",
              "    </tr>\n",
              "    <tr>\n",
              "      <th>40346</th>\n",
              "      <td>2018-12-30</td>\n",
              "      <td>Yemen</td>\n",
              "      <td>Syria</td>\n",
              "      <td>0</td>\n",
              "      <td>1</td>\n",
              "      <td>54</td>\n",
              "      <td>Abu Dhabi</td>\n",
              "      <td>United Arab Emirates</td>\n",
              "      <td>True</td>\n",
              "      <td>2018</td>\n",
              "      <td>[138]</td>\n",
              "      <td>[76]</td>\n",
              "    </tr>\n",
              "    <tr>\n",
              "      <th>40347</th>\n",
              "      <td>2018-12-31</td>\n",
              "      <td>South Korea</td>\n",
              "      <td>Saudi Arabia</td>\n",
              "      <td>0</td>\n",
              "      <td>0</td>\n",
              "      <td>54</td>\n",
              "      <td>Abu Dhabi</td>\n",
              "      <td>United Arab Emirates</td>\n",
              "      <td>True</td>\n",
              "      <td>2018</td>\n",
              "      <td>[]</td>\n",
              "      <td>[65]</td>\n",
              "    </tr>\n",
              "    <tr>\n",
              "      <th>40348</th>\n",
              "      <td>2018-12-31</td>\n",
              "      <td>Kyrgyzstan</td>\n",
              "      <td>Palestine</td>\n",
              "      <td>2</td>\n",
              "      <td>1</td>\n",
              "      <td>54</td>\n",
              "      <td>Doha</td>\n",
              "      <td>Qatar</td>\n",
              "      <td>True</td>\n",
              "      <td>2018</td>\n",
              "      <td>[]</td>\n",
              "      <td>[75]</td>\n",
              "    </tr>\n",
              "    <tr>\n",
              "      <th>40349</th>\n",
              "      <td>2018-12-31</td>\n",
              "      <td>Philippines</td>\n",
              "      <td>Vietnam</td>\n",
              "      <td>2</td>\n",
              "      <td>4</td>\n",
              "      <td>54</td>\n",
              "      <td>Doha</td>\n",
              "      <td>Qatar</td>\n",
              "      <td>True</td>\n",
              "      <td>2018</td>\n",
              "      <td>[123]</td>\n",
              "      <td>[112]</td>\n",
              "    </tr>\n",
              "    <tr>\n",
              "      <th>40350</th>\n",
              "      <td>2018-12-31</td>\n",
              "      <td>Qatar</td>\n",
              "      <td>Iran</td>\n",
              "      <td>1</td>\n",
              "      <td>2</td>\n",
              "      <td>54</td>\n",
              "      <td>Doha</td>\n",
              "      <td>Qatar</td>\n",
              "      <td>False</td>\n",
              "      <td>2018</td>\n",
              "      <td>[103]</td>\n",
              "      <td>[]</td>\n",
              "    </tr>\n",
              "  </tbody>\n",
              "</table>\n",
              "<p>22990 rows × 12 columns</p>\n",
              "</div>"
            ],
            "text/plain": [
              "            date     home_team     away_team  ...  Year  Home_rank  Away_rank\n",
              "17361 1993-01-01         Ghana          Mali  ...  1993       [48]       [74]\n",
              "17362 1993-01-02         Gabon  Burkina Faso  ...  1993       [64]      [113]\n",
              "17363 1993-01-02        Kuwait       Lebanon  ...  1993       [60]      [108]\n",
              "17364 1993-01-03  Burkina Faso          Mali  ...  1993      [113]       [74]\n",
              "17365 1993-01-03         Gabon         Ghana  ...  1993       [64]       [48]\n",
              "...          ...           ...           ...  ...   ...        ...        ...\n",
              "40346 2018-12-30         Yemen         Syria  ...  2018      [138]       [76]\n",
              "40347 2018-12-31   South Korea  Saudi Arabia  ...  2018         []       [65]\n",
              "40348 2018-12-31    Kyrgyzstan     Palestine  ...  2018         []       [75]\n",
              "40349 2018-12-31   Philippines       Vietnam  ...  2018      [123]      [112]\n",
              "40350 2018-12-31         Qatar          Iran  ...  2018      [103]         []\n",
              "\n",
              "[22990 rows x 12 columns]"
            ]
          },
          "metadata": {},
          "execution_count": 27
        }
      ]
    },
    {
      "cell_type": "code",
      "metadata": {
        "id": "R4gMxX6tbyEt"
      },
      "source": [
        "#Outpu the file \n",
        "#fifa_results.to_csv('fifa_results.csv')"
      ],
      "execution_count": 29,
      "outputs": []
    },
    {
      "cell_type": "code",
      "metadata": {
        "id": "b4W8fOE7cIF7"
      },
      "source": [
        "d = [{'name': 'ron', 'number':888, 'age':20}]\n",
        "new = pd.DataFrame.from_dict(d)"
      ],
      "execution_count": 30,
      "outputs": []
    },
    {
      "cell_type": "code",
      "metadata": {
        "id": "Ms0kB7vGcMkU"
      },
      "source": [
        "# Read the new cleaned dataset \n",
        "fifa_df = pd.read_csv('/content/fifa_results.csv')\n",
        "fifa_df['Home_rank']=fifa_df['Home_rank'].str.split(' ').str[0]\n",
        "fifa_df['Away_rank']=fifa_df['Away_rank'].str.split(' ').str[0]\n",
        "# fifa_df['Home_rank']=fifa_df['Home_rank'].apply(pd.to_numeric)\n",
        "# fifa_df['Away_rank']=fifa_df['Away_rank'].apply(pd.to_numeric)\n",
        "fifa_df.dropna(inplace=True)"
      ],
      "execution_count": 33,
      "outputs": []
    },
    {
      "cell_type": "code",
      "metadata": {
        "id": "3NafpmpXdCNf"
      },
      "source": [
        ""
      ],
      "execution_count": null,
      "outputs": []
    }
  ]
}